{
  "nbformat": 4,
  "nbformat_minor": 0,
  "metadata": {
    "colab": {
      "name": "Session 5.ipynb",
      "version": "0.3.2",
      "provenance": [],
      "collapsed_sections": []
    },
    "kernelspec": {
      "name": "python3",
      "display_name": "Python 3"
    },
    "accelerator": "GPU"
  },
  "cells": [
    {
      "cell_type": "markdown",
      "metadata": {
        "id": "pZvE2nRyKyYW",
        "colab_type": "text"
      },
      "source": [
        "Changes:\n",
        "\n",
        "1) First we have to add the image normalization using imageaug function of keras.\n",
        "\n",
        "2) Add Relu after BN\n",
        "\n",
        "3) Add Regularization"
      ]
    },
    {
      "cell_type": "code",
      "metadata": {
        "id": "8fBCfCRdAaXt",
        "colab_type": "code",
        "outputId": "1ef64a0e-de0d-426f-8823-18820a899561",
        "colab": {
          "base_uri": "https://localhost:8080/",
          "height": 46
        }
      },
      "source": [
        "# https://keras.io/\n",
        "!pip install -q keras\n",
        "import keras"
      ],
      "execution_count": 1,
      "outputs": [
        {
          "output_type": "stream",
          "text": [
            "Using TensorFlow backend.\n"
          ],
          "name": "stderr"
        }
      ]
    },
    {
      "cell_type": "code",
      "metadata": {
        "id": "o9-ntr7XAgHA",
        "colab_type": "code",
        "colab": {}
      },
      "source": [
        "import numpy as np\n",
        "\n",
        "from keras.models import Sequential\n",
        "from keras.layers import Flatten\n",
        "from keras.layers import Convolution2D\n",
        "from keras.utils import np_utils\n",
        "\n",
        "from keras.datasets import mnist"
      ],
      "execution_count": 0,
      "outputs": []
    },
    {
      "cell_type": "code",
      "metadata": {
        "id": "sXlGjnMKAllu",
        "colab_type": "code",
        "colab": {}
      },
      "source": [
        "(X_train, y_train), (X_test, y_test) = mnist.load_data()"
      ],
      "execution_count": 0,
      "outputs": []
    },
    {
      "cell_type": "code",
      "metadata": {
        "id": "2yAlyZJ1Am4R",
        "colab_type": "code",
        "outputId": "4db6b151-7211-49d5-87f5-659559745164",
        "colab": {
          "base_uri": "https://localhost:8080/",
          "height": 303
        }
      },
      "source": [
        "print (X_train.shape)\n",
        "from matplotlib import pyplot as plt\n",
        "%matplotlib inline\n",
        "plt.imshow(X_train[0])"
      ],
      "execution_count": 4,
      "outputs": [
        {
          "output_type": "stream",
          "text": [
            "(60000, 28, 28)\n"
          ],
          "name": "stdout"
        },
        {
          "output_type": "execute_result",
          "data": {
            "text/plain": [
              "<matplotlib.image.AxesImage at 0x7f045ef640b8>"
            ]
          },
          "metadata": {
            "tags": []
          },
          "execution_count": 4
        },
        {
          "output_type": "display_data",
          "data": {
            "image/png": "[encoded data removed]",
            "text/plain": [
              "<Figure size 432x288 with 1 Axes>"
            ]
          },
          "metadata": {
            "tags": []
          }
        }
      ]
    },
    {
      "cell_type": "code",
      "metadata": {
        "id": "6Jva5_qfApqo",
        "colab_type": "code",
        "colab": {}
      },
      "source": [
        "X_train = X_train.reshape(X_train.shape[0], 28, 28,1)\n",
        "X_test = X_test.reshape(X_test.shape[0], 28, 28,1)"
      ],
      "execution_count": 0,
      "outputs": []
    },
    {
      "cell_type": "code",
      "metadata": {
        "id": "akyyb6NjAsOI",
        "colab_type": "code",
        "colab": {}
      },
      "source": [
        "X_train = X_train.astype('float32')\n",
        "X_test = X_test.astype('float32')\n",
        "X_train /= 255\n",
        "X_test /= 255"
      ],
      "execution_count": 0,
      "outputs": []
    },
    {
      "cell_type": "code",
      "metadata": {
        "id": "43Rr7Dv0Xcxy",
        "colab_type": "code",
        "colab": {}
      },
      "source": [
        "# Convert 1-dimensional class arrays to 10-dimensional class matrices\n",
        "Y_train = np_utils.to_categorical(y_train, 10)\n",
        "Y_test = np_utils.to_categorical(y_test, 10)"
      ],
      "execution_count": 0,
      "outputs": []
    },
    {
      "cell_type": "code",
      "metadata": {
        "id": "hAOJRty_JtQc",
        "colab_type": "code",
        "colab": {}
      },
      "source": [
        "from keras.datasets import mnist\n",
        "from keras.preprocessing.image import ImageDataGenerator\n",
        "from matplotlib import pyplot\n",
        "#from keras import backend as K\n",
        "#K.set_image_dim_ordering('th')"
      ],
      "execution_count": 0,
      "outputs": []
    },
    {
      "cell_type": "markdown",
      "metadata": {
        "id": "2g7sz401pZCn",
        "colab_type": "text"
      },
      "source": [
        "### Image Normalization"
      ]
    },
    {
      "cell_type": "code",
      "metadata": {
        "id": "YqdkGWPgWnRi",
        "colab_type": "code",
        "colab": {}
      },
      "source": [
        "\n",
        "train_gen = ImageDataGenerator(featurewise_center=True, featurewise_std_normalization=True)\n",
        "test_gen = ImageDataGenerator(featurewise_center=True, featurewise_std_normalization=True)\n",
        "training_set= train_gen.flow(X_train, Y_train, batch_size=64)\n",
        "test_set= test_gen.flow(X_test, Y_test, batch_size=64)\n"
      ],
      "execution_count": 0,
      "outputs": []
    },
    {
      "cell_type": "code",
      "metadata": {
        "id": "zwCFQ5fgOe7H",
        "colab_type": "code",
        "colab": {}
      },
      "source": [
        "from keras.optimizers import Adam\n",
        "adam = Adam(lr=0.0015)"
      ],
      "execution_count": 0,
      "outputs": []
    },
    {
      "cell_type": "markdown",
      "metadata": {
        "id": "DPIGH1drpehf",
        "colab_type": "text"
      },
      "source": [
        "### Call backs for learning rate scheduling and saving best models"
      ]
    },
    {
      "cell_type": "code",
      "metadata": {
        "id": "1YKvkPGoO7Pl",
        "colab_type": "code",
        "colab": {}
      },
      "source": [
        "from keras.callbacks import LearningRateScheduler,ModelCheckpoint\n",
        "import math\n",
        "\n",
        "def step_decay(epoch):\n",
        "   initial_lrate = 0.001\n",
        "   drop = 0.05\n",
        "   epochs_drop = 20.0\n",
        "   lrate = initial_lrate * math.pow(drop,  \n",
        "           math.floor((1+epoch)/epochs_drop))\n",
        "   return lrate\n",
        "lrate = LearningRateScheduler(step_decay)\n",
        "\n",
        "#Callback to save best model\n",
        "#The file is overwrited each time model validation accuracy increases\n",
        "checkpoint = ModelCheckpoint('best_model.h5', verbose=1, monitor='val_acc',save_best_only=True, mode='auto')  \n",
        "\n",
        "# Call back list incluede learning rate and model checkpoint \n",
        "callbacks_list = [lrate,checkpoint]\n",
        "\n"
      ],
      "execution_count": 0,
      "outputs": []
    },
    {
      "cell_type": "code",
      "metadata": {
        "id": "_10jQ2Endduf",
        "colab_type": "code",
        "colab": {}
      },
      "source": [
        ""
      ],
      "execution_count": 0,
      "outputs": []
    },
    {
      "cell_type": "markdown",
      "metadata": {
        "id": "VX661EGupmPN",
        "colab_type": "text"
      },
      "source": [
        "### Network architecture"
      ]
    },
    {
      "cell_type": "code",
      "metadata": {
        "id": "dbyU_dQfO9fm",
        "colab_type": "code",
        "outputId": "f4369506-ed24-4199-9709-3dd8ce57360d",
        "colab": {
          "base_uri": "https://localhost:8080/",
          "height": 1550
        }
      },
      "source": [
        "from keras.layers import Activation\n",
        "from keras.layers.normalization import BatchNormalization\n",
        "from keras.layers import Convolution2D, MaxPooling2D\n",
        "from keras.layers import Dense, Dropout, Activation, Flatten, Add\n",
        "from keras import regularizers\n",
        "\n",
        "model = Sequential() \n",
        "#Receptive field becomes: 3X3\n",
        "model.add(Convolution2D(16, 3, 3, input_shape=(28,28,1),kernel_regularizer=regularizers.l2(0.01))) #26X26\n",
        "model.add(BatchNormalization())\n",
        "model.add(Activation('relu'))\n",
        "model.add(Dropout(0.1))\n",
        "\n",
        "model.add(Convolution2D(16, 3, 3,kernel_regularizer=regularizers.l2(0.01)))#24X24\n",
        "model.add(BatchNormalization())\n",
        "model.add(Activation('relu'))\n",
        "model.add(Dropout(0.1))\n",
        "\n",
        "model.add(Convolution2D(16, 3, 3,kernel_regularizer=regularizers.l2(0.01))) #22X22\n",
        "model.add(BatchNormalization())\n",
        "model.add(Activation('relu'))\n",
        "model.add(Dropout(0.1))\n",
        "\n",
        "model.add(MaxPooling2D(pool_size=(2, 2)))#11X11\n",
        "\n",
        "\n",
        "model.add(Convolution2D(16, 3, 3,kernel_regularizer=regularizers.l2(0.01))) #9X9\n",
        "model.add(BatchNormalization())\n",
        "model.add(Activation('relu'))\n",
        "model.add(Dropout(0.1))\n",
        "\n",
        "model.add(Convolution2D(10, 1,kernel_regularizer=regularizers.l2(0.01)))#9X9\n",
        "model.add(BatchNormalization())\n",
        "model.add(Activation('relu'))\n",
        "model.add(Dropout(0.3))\n",
        "\n",
        "model.add(Convolution2D(10, 3, 3,kernel_regularizer=regularizers.l2(0.01)))#7X7\n",
        "model.add(BatchNormalization())\n",
        "model.add(Activation('relu'))\n",
        "\n",
        "model.add(Convolution2D(10, 3, 3, activation='relu',kernel_regularizer=regularizers.l2(0.01)))#5X5\n",
        "\n",
        "\n",
        "\n",
        "\n",
        "model.add(Convolution2D(10,5))\n",
        "\n",
        "\n",
        "model.add(Flatten())\n",
        "model.add(Activation('softmax'))\n",
        "\n",
        "model.summary()"
      ],
      "execution_count": 12,
      "outputs": [
        {
          "output_type": "stream",
          "text": [
            "WARNING: Logging before flag parsing goes to stderr.\n",
            "W0620 18:37:13.300227 139657983870848 deprecation_wrapper.py:119] From /usr/local/lib/python3.6/dist-packages/keras/backend/tensorflow_backend.py:74: The name tf.get_default_graph is deprecated. Please use tf.compat.v1.get_default_graph instead.\n",
            "\n",
            "/usr/local/lib/python3.6/dist-packages/ipykernel_launcher.py:9: UserWarning: Update your `Conv2D` call to the Keras 2 API: `Conv2D(16, (3, 3), input_shape=(28, 28, 1..., kernel_regularizer=<keras.reg...)`\n",
            "  if __name__ == '__main__':\n",
            "W0620 18:37:13.305418 139657983870848 deprecation_wrapper.py:119] From /usr/local/lib/python3.6/dist-packages/keras/backend/tensorflow_backend.py:517: The name tf.placeholder is deprecated. Please use tf.compat.v1.placeholder instead.\n",
            "\n",
            "W0620 18:37:13.308895 139657983870848 deprecation_wrapper.py:119] From /usr/local/lib/python3.6/dist-packages/keras/backend/tensorflow_backend.py:4138: The name tf.random_uniform is deprecated. Please use tf.random.uniform instead.\n",
            "\n",
            "W0620 18:37:13.339224 139657983870848 deprecation_wrapper.py:119] From /usr/local/lib/python3.6/dist-packages/keras/backend/tensorflow_backend.py:174: The name tf.get_default_session is deprecated. Please use tf.compat.v1.get_default_session instead.\n",
            "\n",
            "W0620 18:37:13.340110 139657983870848 deprecation_wrapper.py:119] From /usr/local/lib/python3.6/dist-packages/keras/backend/tensorflow_backend.py:181: The name tf.ConfigProto is deprecated. Please use tf.compat.v1.ConfigProto instead.\n",
            "\n",
            "W0620 18:37:14.192883 139657983870848 deprecation_wrapper.py:119] From /usr/local/lib/python3.6/dist-packages/keras/backend/tensorflow_backend.py:1834: The name tf.nn.fused_batch_norm is deprecated. Please use tf.compat.v1.nn.fused_batch_norm instead.\n",
            "\n",
            "W0620 18:37:14.267783 139657983870848 deprecation.py:506] From /usr/local/lib/python3.6/dist-packages/keras/backend/tensorflow_backend.py:3445: calling dropout (from tensorflow.python.ops.nn_ops) with keep_prob is deprecated and will be removed in a future version.\n",
            "Instructions for updating:\n",
            "Please use `rate` instead of `keep_prob`. Rate should be set to `rate = 1 - keep_prob`.\n",
            "/usr/local/lib/python3.6/dist-packages/ipykernel_launcher.py:14: UserWarning: Update your `Conv2D` call to the Keras 2 API: `Conv2D(16, (3, 3), kernel_regularizer=<keras.reg...)`\n",
            "  \n",
            "/usr/local/lib/python3.6/dist-packages/ipykernel_launcher.py:19: UserWarning: Update your `Conv2D` call to the Keras 2 API: `Conv2D(16, (3, 3), kernel_regularizer=<keras.reg...)`\n",
            "W0620 18:37:14.606547 139657983870848 deprecation_wrapper.py:119] From /usr/local/lib/python3.6/dist-packages/keras/backend/tensorflow_backend.py:3976: The name tf.nn.max_pool is deprecated. Please use tf.nn.max_pool2d instead.\n",
            "\n",
            "/usr/local/lib/python3.6/dist-packages/ipykernel_launcher.py:27: UserWarning: Update your `Conv2D` call to the Keras 2 API: `Conv2D(16, (3, 3), kernel_regularizer=<keras.reg...)`\n",
            "/usr/local/lib/python3.6/dist-packages/ipykernel_launcher.py:37: UserWarning: Update your `Conv2D` call to the Keras 2 API: `Conv2D(10, (3, 3), kernel_regularizer=<keras.reg...)`\n"
          ],
          "name": "stderr"
        },
        {
          "output_type": "stream",
          "text": [
            "_________________________________________________________________\n",
            "Layer (type)                 Output Shape              Param #   \n",
            "=================================================================\n",
            "conv2d_1 (Conv2D)            (None, 26, 26, 16)        160       \n",
            "_________________________________________________________________\n",
            "batch_normalization_1 (Batch (None, 26, 26, 16)        64        \n",
            "_________________________________________________________________\n",
            "activation_1 (Activation)    (None, 26, 26, 16)        0         \n",
            "_________________________________________________________________\n",
            "dropout_1 (Dropout)          (None, 26, 26, 16)        0         \n",
            "_________________________________________________________________\n",
            "conv2d_2 (Conv2D)            (None, 24, 24, 16)        2320      \n",
            "_________________________________________________________________\n",
            "batch_normalization_2 (Batch (None, 24, 24, 16)        64        \n",
            "_________________________________________________________________\n",
            "activation_2 (Activation)    (None, 24, 24, 16)        0         \n",
            "_________________________________________________________________\n",
            "dropout_2 (Dropout)          (None, 24, 24, 16)        0         \n",
            "_________________________________________________________________\n",
            "conv2d_3 (Conv2D)            (None, 22, 22, 16)        2320      \n",
            "_________________________________________________________________\n",
            "batch_normalization_3 (Batch (None, 22, 22, 16)        64        \n",
            "_________________________________________________________________\n",
            "activation_3 (Activation)    (None, 22, 22, 16)        0         \n",
            "_________________________________________________________________\n",
            "dropout_3 (Dropout)          (None, 22, 22, 16)        0         \n",
            "_________________________________________________________________\n",
            "max_pooling2d_1 (MaxPooling2 (None, 11, 11, 16)        0         \n",
            "_________________________________________________________________\n",
            "conv2d_4 (Conv2D)            (None, 9, 9, 16)          2320      \n",
            "_________________________________________________________________\n",
            "batch_normalization_4 (Batch (None, 9, 9, 16)          64        \n",
            "_________________________________________________________________\n",
            "activation_4 (Activation)    (None, 9, 9, 16)          0         \n",
            "_________________________________________________________________\n",
            "dropout_4 (Dropout)          (None, 9, 9, 16)          0         \n",
            "_________________________________________________________________\n",
            "conv2d_5 (Conv2D)            (None, 9, 9, 10)          170       \n",
            "_________________________________________________________________\n",
            "batch_normalization_5 (Batch (None, 9, 9, 10)          40        \n",
            "_________________________________________________________________\n",
            "activation_5 (Activation)    (None, 9, 9, 10)          0         \n",
            "_________________________________________________________________\n",
            "dropout_5 (Dropout)          (None, 9, 9, 10)          0         \n",
            "_________________________________________________________________\n",
            "conv2d_6 (Conv2D)            (None, 7, 7, 10)          910       \n",
            "_________________________________________________________________\n",
            "batch_normalization_6 (Batch (None, 7, 7, 10)          40        \n",
            "_________________________________________________________________\n",
            "activation_6 (Activation)    (None, 7, 7, 10)          0         \n",
            "_________________________________________________________________\n",
            "conv2d_7 (Conv2D)            (None, 5, 5, 10)          910       \n",
            "_________________________________________________________________\n",
            "conv2d_8 (Conv2D)            (None, 1, 1, 10)          2510      \n",
            "_________________________________________________________________\n",
            "flatten_1 (Flatten)          (None, 10)                0         \n",
            "_________________________________________________________________\n",
            "activation_7 (Activation)    (None, 10)                0         \n",
            "=================================================================\n",
            "Total params: 11,956\n",
            "Trainable params: 11,788\n",
            "Non-trainable params: 168\n",
            "_________________________________________________________________\n"
          ],
          "name": "stdout"
        },
        {
          "output_type": "stream",
          "text": [
            "/usr/local/lib/python3.6/dist-packages/ipykernel_launcher.py:41: UserWarning: Update your `Conv2D` call to the Keras 2 API: `Conv2D(10, (3, 3), activation=\"relu\", kernel_regularizer=<keras.reg...)`\n"
          ],
          "name": "stderr"
        }
      ]
    },
    {
      "cell_type": "code",
      "metadata": {
        "id": "IPpBq76jPBkV",
        "colab_type": "code",
        "outputId": "6fc7ede2-464a-4219-e187-9ede12a85f6e",
        "colab": {
          "base_uri": "https://localhost:8080/",
          "height": 91
        }
      },
      "source": [
        "model.compile(loss='categorical_crossentropy',\n",
        "             optimizer=adam,\n",
        "             metrics=['accuracy'])"
      ],
      "execution_count": 13,
      "outputs": [
        {
          "output_type": "stream",
          "text": [
            "W0620 18:37:26.276018 139657983870848 deprecation_wrapper.py:119] From /usr/local/lib/python3.6/dist-packages/keras/optimizers.py:790: The name tf.train.Optimizer is deprecated. Please use tf.compat.v1.train.Optimizer instead.\n",
            "\n"
          ],
          "name": "stderr"
        }
      ]
    },
    {
      "cell_type": "code",
      "metadata": {
        "id": "OggxPAulXwDt",
        "colab_type": "code",
        "outputId": "3ef4d30b-b832-4cc3-d622-a998ca7fce26",
        "colab": {
          "base_uri": "https://localhost:8080/",
          "height": 2893
        }
      },
      "source": [
        "model.fit_generator(training_set, \n",
        "                         steps_per_epoch=60000//64, \n",
        "                         validation_data= test_set, \n",
        "                         validation_steps=10000//64, \n",
        "                         epochs=40,verbose=1,callbacks=callbacks_list)"
      ],
      "execution_count": 14,
      "outputs": [
        {
          "output_type": "stream",
          "text": [
            "W0620 18:37:28.697663 139657983870848 deprecation.py:323] From /usr/local/lib/python3.6/dist-packages/tensorflow/python/ops/math_grad.py:1250: add_dispatch_support.<locals>.wrapper (from tensorflow.python.ops.array_ops) is deprecated and will be removed in a future version.\n",
            "Instructions for updating:\n",
            "Use tf.where in 2.0, which has the same broadcast rule as np.where\n"
          ],
          "name": "stderr"
        },
        {
          "output_type": "stream",
          "text": [
            "Epoch 1/40\n"
          ],
          "name": "stdout"
        },
        {
          "output_type": "stream",
          "text": [
            "/usr/local/lib/python3.6/dist-packages/keras_preprocessing/image/image_data_generator.py:724: UserWarning: This ImageDataGenerator specifies `featurewise_std_normalization`, but it hasn't been fit on any training data. Fit it first by calling `.fit(numpy_data)`.\n",
            "  warnings.warn('This ImageDataGenerator specifies '\n",
            "/usr/local/lib/python3.6/dist-packages/keras_preprocessing/image/image_data_generator.py:716: UserWarning: This ImageDataGenerator specifies `featurewise_center`, but it hasn't been fit on any training data. Fit it first by calling `.fit(numpy_data)`.\n",
            "  warnings.warn('This ImageDataGenerator specifies '\n"
          ],
          "name": "stderr"
        },
        {
          "output_type": "stream",
          "text": [
            "937/937 [==============================] - 16s 17ms/step - loss: 0.7077 - acc: 0.8940 - val_loss: 0.4101 - val_acc: 0.9335\n",
            "\n",
            "Epoch 00001: val_acc improved from -inf to 0.93349, saving model to best_model.h5\n",
            "Epoch 2/40\n",
            "937/937 [==============================] - 13s 14ms/step - loss: 0.1991 - acc: 0.9705 - val_loss: 0.2169 - val_acc: 0.9553\n",
            "\n",
            "Epoch 00002: val_acc improved from 0.93349 to 0.95531, saving model to best_model.h5\n",
            "Epoch 3/40\n",
            "937/937 [==============================] - 13s 14ms/step - loss: 0.1499 - acc: 0.9738 - val_loss: 0.1306 - val_acc: 0.9774\n",
            "\n",
            "Epoch 00003: val_acc improved from 0.95531 to 0.97736, saving model to best_model.h5\n",
            "Epoch 4/40\n",
            "937/937 [==============================] - 13s 14ms/step - loss: 0.1340 - acc: 0.9757 - val_loss: 0.1186 - val_acc: 0.9788\n",
            "\n",
            "Epoch 00004: val_acc improved from 0.97736 to 0.97876, saving model to best_model.h5\n",
            "Epoch 5/40\n",
            "937/937 [==============================] - 13s 14ms/step - loss: 0.1267 - acc: 0.9758 - val_loss: 0.1166 - val_acc: 0.9776\n",
            "\n",
            "Epoch 00005: val_acc did not improve from 0.97876\n",
            "Epoch 6/40\n",
            "937/937 [==============================] - 13s 14ms/step - loss: 0.1178 - acc: 0.9774 - val_loss: 0.1469 - val_acc: 0.9677\n",
            "\n",
            "Epoch 00006: val_acc did not improve from 0.97876\n",
            "Epoch 7/40\n",
            "937/937 [==============================] - 13s 14ms/step - loss: 0.1153 - acc: 0.9778 - val_loss: 0.0897 - val_acc: 0.9855\n",
            "\n",
            "Epoch 00007: val_acc improved from 0.97876 to 0.98551, saving model to best_model.h5\n",
            "Epoch 8/40\n",
            "937/937 [==============================] - 13s 14ms/step - loss: 0.1111 - acc: 0.9788 - val_loss: 0.0979 - val_acc: 0.9836\n",
            "\n",
            "Epoch 00008: val_acc did not improve from 0.98551\n",
            "Epoch 9/40\n",
            "937/937 [==============================] - 13s 14ms/step - loss: 0.1073 - acc: 0.9804 - val_loss: 0.1001 - val_acc: 0.9813\n",
            "\n",
            "Epoch 00009: val_acc did not improve from 0.98551\n",
            "Epoch 10/40\n",
            "937/937 [==============================] - 13s 14ms/step - loss: 0.1071 - acc: 0.9803 - val_loss: 0.1155 - val_acc: 0.9769\n",
            "\n",
            "Epoch 00010: val_acc did not improve from 0.98551\n",
            "Epoch 11/40\n",
            "937/937 [==============================] - 13s 14ms/step - loss: 0.1026 - acc: 0.9809 - val_loss: 0.0917 - val_acc: 0.9837\n",
            "\n",
            "Epoch 00011: val_acc did not improve from 0.98551\n",
            "Epoch 12/40\n",
            "937/937 [==============================] - 13s 14ms/step - loss: 0.1022 - acc: 0.9812 - val_loss: 0.0872 - val_acc: 0.9858\n",
            "\n",
            "Epoch 00012: val_acc improved from 0.98551 to 0.98581, saving model to best_model.h5\n",
            "Epoch 13/40\n",
            "937/937 [==============================] - 13s 14ms/step - loss: 0.1041 - acc: 0.9803 - val_loss: 0.0968 - val_acc: 0.9826\n",
            "\n",
            "Epoch 00013: val_acc did not improve from 0.98581\n",
            "Epoch 14/40\n",
            "937/937 [==============================] - 13s 14ms/step - loss: 0.1022 - acc: 0.9807 - val_loss: 0.1056 - val_acc: 0.9810\n",
            "\n",
            "Epoch 00014: val_acc did not improve from 0.98581\n",
            "Epoch 15/40\n",
            "937/937 [==============================] - 14s 15ms/step - loss: 0.0992 - acc: 0.9812 - val_loss: 0.0879 - val_acc: 0.9855\n",
            "\n",
            "Epoch 00015: val_acc did not improve from 0.98581\n",
            "Epoch 16/40\n",
            "937/937 [==============================] - 13s 14ms/step - loss: 0.0989 - acc: 0.9814 - val_loss: 0.0918 - val_acc: 0.9841\n",
            "\n",
            "Epoch 00016: val_acc did not improve from 0.98581\n",
            "Epoch 17/40\n",
            "937/937 [==============================] - 13s 14ms/step - loss: 0.0984 - acc: 0.9816 - val_loss: 0.0975 - val_acc: 0.9830\n",
            "\n",
            "Epoch 00017: val_acc did not improve from 0.98581\n",
            "Epoch 18/40\n",
            "937/937 [==============================] - 13s 14ms/step - loss: 0.0950 - acc: 0.9822 - val_loss: 0.0928 - val_acc: 0.9828\n",
            "\n",
            "Epoch 00018: val_acc did not improve from 0.98581\n",
            "Epoch 19/40\n",
            "937/937 [==============================] - 13s 14ms/step - loss: 0.0968 - acc: 0.9816 - val_loss: 0.1046 - val_acc: 0.9793\n",
            "\n",
            "Epoch 00019: val_acc did not improve from 0.98581\n",
            "Epoch 20/40\n",
            "937/937 [==============================] - 13s 14ms/step - loss: 0.0772 - acc: 0.9883 - val_loss: 0.0649 - val_acc: 0.9910\n",
            "\n",
            "Epoch 00020: val_acc improved from 0.98581 to 0.99104, saving model to best_model.h5\n",
            "Epoch 21/40\n",
            "937/937 [==============================] - 13s 14ms/step - loss: 0.0690 - acc: 0.9897 - val_loss: 0.0611 - val_acc: 0.9915\n",
            "\n",
            "Epoch 00021: val_acc improved from 0.99104 to 0.99155, saving model to best_model.h5\n",
            "Epoch 22/40\n",
            "937/937 [==============================] - 13s 14ms/step - loss: 0.0653 - acc: 0.9903 - val_loss: 0.0588 - val_acc: 0.9909\n",
            "\n",
            "Epoch 00022: val_acc did not improve from 0.99155\n",
            "Epoch 23/40\n",
            "937/937 [==============================] - 13s 14ms/step - loss: 0.0625 - acc: 0.9898 - val_loss: 0.0550 - val_acc: 0.9915\n",
            "\n",
            "Epoch 00023: val_acc did not improve from 0.99155\n",
            "Epoch 24/40\n",
            "937/937 [==============================] - 13s 14ms/step - loss: 0.0588 - acc: 0.9904 - val_loss: 0.0530 - val_acc: 0.9921\n",
            "\n",
            "Epoch 00024: val_acc improved from 0.99155 to 0.99215, saving model to best_model.h5\n",
            "Epoch 25/40\n",
            "937/937 [==============================] - 13s 14ms/step - loss: 0.0579 - acc: 0.9904 - val_loss: 0.0491 - val_acc: 0.9925\n",
            "\n",
            "Epoch 00025: val_acc improved from 0.99215 to 0.99245, saving model to best_model.h5\n",
            "Epoch 26/40\n",
            "937/937 [==============================] - 13s 14ms/step - loss: 0.0550 - acc: 0.9911 - val_loss: 0.0476 - val_acc: 0.9929\n",
            "\n",
            "Epoch 00026: val_acc improved from 0.99245 to 0.99285, saving model to best_model.h5\n",
            "Epoch 27/40\n",
            "937/937 [==============================] - 13s 14ms/step - loss: 0.0530 - acc: 0.9911 - val_loss: 0.0490 - val_acc: 0.9917\n",
            "\n",
            "Epoch 00027: val_acc did not improve from 0.99285\n",
            "Epoch 28/40\n",
            "937/937 [==============================] - 13s 14ms/step - loss: 0.0522 - acc: 0.9907 - val_loss: 0.0473 - val_acc: 0.9920\n",
            "\n",
            "Epoch 00028: val_acc did not improve from 0.99285\n",
            "Epoch 29/40\n",
            "937/937 [==============================] - 13s 14ms/step - loss: 0.0505 - acc: 0.9908 - val_loss: 0.0445 - val_acc: 0.9923\n",
            "\n",
            "Epoch 00029: val_acc did not improve from 0.99285\n",
            "Epoch 30/40\n",
            "937/937 [==============================] - 13s 14ms/step - loss: 0.0488 - acc: 0.9913 - val_loss: 0.0432 - val_acc: 0.9936\n",
            "\n",
            "Epoch 00030: val_acc improved from 0.99285 to 0.99356, saving model to best_model.h5\n",
            "Epoch 31/40\n",
            "937/937 [==============================] - 13s 14ms/step - loss: 0.0486 - acc: 0.9913 - val_loss: 0.0435 - val_acc: 0.9919\n",
            "\n",
            "Epoch 00031: val_acc did not improve from 0.99356\n",
            "Epoch 32/40\n",
            "937/937 [==============================] - 13s 14ms/step - loss: 0.0465 - acc: 0.9916 - val_loss: 0.0433 - val_acc: 0.9920\n",
            "\n",
            "Epoch 00032: val_acc did not improve from 0.99356\n",
            "Epoch 33/40\n",
            "937/937 [==============================] - 13s 14ms/step - loss: 0.0462 - acc: 0.9916 - val_loss: 0.0423 - val_acc: 0.9926\n",
            "\n",
            "Epoch 00033: val_acc did not improve from 0.99356\n",
            "Epoch 34/40\n",
            "937/937 [==============================] - 13s 14ms/step - loss: 0.0452 - acc: 0.9914 - val_loss: 0.0430 - val_acc: 0.9924\n",
            "\n",
            "Epoch 00034: val_acc did not improve from 0.99356\n",
            "Epoch 35/40\n",
            "937/937 [==============================] - 13s 14ms/step - loss: 0.0447 - acc: 0.9915 - val_loss: 0.0408 - val_acc: 0.9927\n",
            "\n",
            "Epoch 00035: val_acc did not improve from 0.99356\n",
            "Epoch 36/40\n",
            "937/937 [==============================] - 13s 14ms/step - loss: 0.0437 - acc: 0.9914 - val_loss: 0.0408 - val_acc: 0.9925\n",
            "\n",
            "Epoch 00036: val_acc did not improve from 0.99356\n",
            "Epoch 37/40\n",
            "937/937 [==============================] - 13s 14ms/step - loss: 0.0429 - acc: 0.9920 - val_loss: 0.0368 - val_acc: 0.9929\n",
            "\n",
            "Epoch 00037: val_acc did not improve from 0.99356\n",
            "Epoch 38/40\n",
            "937/937 [==============================] - 13s 14ms/step - loss: 0.0422 - acc: 0.9917 - val_loss: 0.0391 - val_acc: 0.9928\n",
            "\n",
            "Epoch 00038: val_acc did not improve from 0.99356\n",
            "Epoch 39/40\n",
            "937/937 [==============================] - 13s 14ms/step - loss: 0.0418 - acc: 0.9922 - val_loss: 0.0377 - val_acc: 0.9920\n",
            "\n",
            "Epoch 00039: val_acc did not improve from 0.99356\n",
            "Epoch 40/40\n",
            "937/937 [==============================] - 13s 14ms/step - loss: 0.0401 - acc: 0.9928 - val_loss: 0.0371 - val_acc: 0.9935\n",
            "\n",
            "Epoch 00040: val_acc did not improve from 0.99356\n"
          ],
          "name": "stdout"
        },
        {
          "output_type": "execute_result",
          "data": {
            "text/plain": [
              "<keras.callbacks.History at 0x7f043e1b7e10>"
            ]
          },
          "metadata": {
            "tags": []
          },
          "execution_count": 14
        }
      ]
    },
    {
      "cell_type": "markdown",
      "metadata": {
        "id": "ueQmWes6r8Zu",
        "colab_type": "text"
      },
      "source": [
        "Saved File"
      ]
    },
    {
      "cell_type": "code",
      "metadata": {
        "id": "5JavMo1Yr4b1",
        "colab_type": "code",
        "colab": {
          "base_uri": "https://localhost:8080/",
          "height": 63
        },
        "outputId": "7feb8760-f7ca-4040-8f22-ad0831e8ad0e"
      },
      "source": [
        "!ls"
      ],
      "execution_count": 45,
      "outputs": [
        {
          "output_type": "stream",
          "text": [
            "best_model.h5  sample_data\n"
          ],
          "name": "stdout"
        }
      ]
    },
    {
      "cell_type": "markdown",
      "metadata": {
        "id": "aesO9xmfLB-Q",
        "colab_type": "text"
      },
      "source": [
        "Observation:\n",
        "\n",
        "1) First we added the image normalization using imageaug function of keras. Which helps to standerdise the images\n",
        "\n",
        "2) Added Relu after BN \n",
        "\n",
        "3) Added Regularization: Regularization helped decrease the difference between training and validation accuracy"
      ]
    },
    {
      "cell_type": "code",
      "metadata": {
        "id": "XK_mYpPdsY3B",
        "colab_type": "code",
        "colab": {}
      },
      "source": [
        "y_pred = model.evaluate_generator() (X_test)"
      ],
      "execution_count": 0,
      "outputs": []
    },
    {
      "cell_type": "markdown",
      "metadata": {
        "id": "NRcin5CUUoaU",
        "colab_type": "text"
      },
      "source": [
        ""
      ]
    },
    {
      "cell_type": "code",
      "metadata": {
        "id": "dkJzmCGVOmJE",
        "colab_type": "code",
        "colab": {}
      },
      "source": [
        "#Get index of maximum value\n",
        "y_pred = np.argmax(y_pred,axis=1)"
      ],
      "execution_count": 0,
      "outputs": []
    },
    {
      "cell_type": "code",
      "metadata": {
        "id": "NG70fEfyQYv-",
        "colab_type": "code",
        "colab": {}
      },
      "source": [
        "\n",
        "non_correct_pred_indexes = [i for i in range(0,len(y_test)) if y_test[i] != y_pred[i]]"
      ],
      "execution_count": 0,
      "outputs": []
    },
    {
      "cell_type": "markdown",
      "metadata": {
        "id": "tIJX2IwkckCv",
        "colab_type": "text"
      },
      "source": [
        "### Top 25 misclassified images"
      ]
    },
    {
      "cell_type": "code",
      "metadata": {
        "id": "cR7e1WX6bcMS",
        "colab_type": "code",
        "colab": {
          "base_uri": "https://localhost:8080/",
          "height": 824
        },
        "outputId": "0e9db347-354b-4e27-c758-1ee1f0fdaeba"
      },
      "source": [
        "import pandas as pd\n",
        "actual_vs_predicted = pd.DataFrame(columns = ['actual','predicted'])\n",
        "\n",
        "\n",
        "actual_vs_predicted['actual'] = y_test[non_correct_pred_indexes[0:25]]\n",
        "actual_vs_predicted['predicted'] = y_pred[non_correct_pred_indexes[0:25]]\n",
        "actual_vs_predicted"
      ],
      "execution_count": 30,
      "outputs": [
        {
          "output_type": "execute_result",
          "data": {
            "text/html": [
              "<div>\n",
              "<style scoped>\n",
              "    .dataframe tbody tr th:only-of-type {\n",
              "        vertical-align: middle;\n",
              "    }\n",
              "\n",
              "    .dataframe tbody tr th {\n",
              "        vertical-align: top;\n",
              "    }\n",
              "\n",
              "    .dataframe thead th {\n",
              "        text-align: right;\n",
              "    }\n",
              "</style>\n",
              "<table border=\"1\" class=\"dataframe\">\n",
              "  <thead>\n",
              "    <tr style=\"text-align: right;\">\n",
              "      <th></th>\n",
              "      <th>actual</th>\n",
              "      <th>predicted</th>\n",
              "    </tr>\n",
              "  </thead>\n",
              "  <tbody>\n",
              "    <tr>\n",
              "      <th>0</th>\n",
              "      <td>9</td>\n",
              "      <td>4</td>\n",
              "    </tr>\n",
              "    <tr>\n",
              "      <th>1</th>\n",
              "      <td>6</td>\n",
              "      <td>0</td>\n",
              "    </tr>\n",
              "    <tr>\n",
              "      <th>2</th>\n",
              "      <td>9</td>\n",
              "      <td>8</td>\n",
              "    </tr>\n",
              "    <tr>\n",
              "      <th>3</th>\n",
              "      <td>2</td>\n",
              "      <td>7</td>\n",
              "    </tr>\n",
              "    <tr>\n",
              "      <th>4</th>\n",
              "      <td>2</td>\n",
              "      <td>6</td>\n",
              "    </tr>\n",
              "    <tr>\n",
              "      <th>5</th>\n",
              "      <td>5</td>\n",
              "      <td>3</td>\n",
              "    </tr>\n",
              "    <tr>\n",
              "      <th>6</th>\n",
              "      <td>2</td>\n",
              "      <td>1</td>\n",
              "    </tr>\n",
              "    <tr>\n",
              "      <th>7</th>\n",
              "      <td>6</td>\n",
              "      <td>0</td>\n",
              "    </tr>\n",
              "    <tr>\n",
              "      <th>8</th>\n",
              "      <td>3</td>\n",
              "      <td>5</td>\n",
              "    </tr>\n",
              "    <tr>\n",
              "      <th>9</th>\n",
              "      <td>2</td>\n",
              "      <td>8</td>\n",
              "    </tr>\n",
              "    <tr>\n",
              "      <th>10</th>\n",
              "      <td>1</td>\n",
              "      <td>8</td>\n",
              "    </tr>\n",
              "    <tr>\n",
              "      <th>11</th>\n",
              "      <td>6</td>\n",
              "      <td>4</td>\n",
              "    </tr>\n",
              "    <tr>\n",
              "      <th>12</th>\n",
              "      <td>2</td>\n",
              "      <td>6</td>\n",
              "    </tr>\n",
              "    <tr>\n",
              "      <th>13</th>\n",
              "      <td>2</td>\n",
              "      <td>1</td>\n",
              "    </tr>\n",
              "    <tr>\n",
              "      <th>14</th>\n",
              "      <td>9</td>\n",
              "      <td>4</td>\n",
              "    </tr>\n",
              "    <tr>\n",
              "      <th>15</th>\n",
              "      <td>3</td>\n",
              "      <td>5</td>\n",
              "    </tr>\n",
              "    <tr>\n",
              "      <th>16</th>\n",
              "      <td>8</td>\n",
              "      <td>9</td>\n",
              "    </tr>\n",
              "    <tr>\n",
              "      <th>17</th>\n",
              "      <td>6</td>\n",
              "      <td>0</td>\n",
              "    </tr>\n",
              "    <tr>\n",
              "      <th>18</th>\n",
              "      <td>6</td>\n",
              "      <td>5</td>\n",
              "    </tr>\n",
              "    <tr>\n",
              "      <th>19</th>\n",
              "      <td>7</td>\n",
              "      <td>1</td>\n",
              "    </tr>\n",
              "    <tr>\n",
              "      <th>20</th>\n",
              "      <td>3</td>\n",
              "      <td>2</td>\n",
              "    </tr>\n",
              "    <tr>\n",
              "      <th>21</th>\n",
              "      <td>7</td>\n",
              "      <td>2</td>\n",
              "    </tr>\n",
              "    <tr>\n",
              "      <th>22</th>\n",
              "      <td>2</td>\n",
              "      <td>1</td>\n",
              "    </tr>\n",
              "    <tr>\n",
              "      <th>23</th>\n",
              "      <td>9</td>\n",
              "      <td>4</td>\n",
              "    </tr>\n",
              "    <tr>\n",
              "      <th>24</th>\n",
              "      <td>9</td>\n",
              "      <td>5</td>\n",
              "    </tr>\n",
              "  </tbody>\n",
              "</table>\n",
              "</div>"
            ],
            "text/plain": [
              "    actual  predicted\n",
              "0        9          4\n",
              "1        6          0\n",
              "2        9          8\n",
              "3        2          7\n",
              "4        2          6\n",
              "5        5          3\n",
              "6        2          1\n",
              "7        6          0\n",
              "8        3          5\n",
              "9        2          8\n",
              "10       1          8\n",
              "11       6          4\n",
              "12       2          6\n",
              "13       2          1\n",
              "14       9          4\n",
              "15       3          5\n",
              "16       8          9\n",
              "17       6          0\n",
              "18       6          5\n",
              "19       7          1\n",
              "20       3          2\n",
              "21       7          2\n",
              "22       2          1\n",
              "23       9          4\n",
              "24       9          5"
            ]
          },
          "metadata": {
            "tags": []
          },
          "execution_count": 30
        }
      ]
    },
    {
      "cell_type": "code",
      "metadata": {
        "id": "SVQYL1y9LrTu",
        "colab_type": "code",
        "colab": {}
      },
      "source": [
        "images = X_test[non_correct_pred_indexes]"
      ],
      "execution_count": 0,
      "outputs": []
    },
    {
      "cell_type": "code",
      "metadata": {
        "id": "MD7N_2-oML74",
        "colab_type": "code",
        "colab": {}
      },
      "source": [
        "images = images[0:25]"
      ],
      "execution_count": 0,
      "outputs": []
    },
    {
      "cell_type": "code",
      "metadata": {
        "id": "SmP6py8KO6QM",
        "colab_type": "code",
        "outputId": "b44f03c6-b158-4b4b-b25e-6046300a2671",
        "colab": {
          "base_uri": "https://localhost:8080/",
          "height": 502
        }
      },
      "source": [
        "plt.figure(figsize=(10,10))\n",
        "columns = 5\n",
        "for i, image in enumerate(images):\n",
        "    plt.subplot(len(images) / columns + 1, columns, i + 1)\n",
        "    plt.imshow(image)"
      ],
      "execution_count": 24,
      "outputs": [
        {
          "output_type": "display_data",
          "data": {
            "image/png": "[encoded data removed]",
            "text/plain": [
              "<Figure size 720x720 with 25 Axes>"
            ]
          },
          "metadata": {
            "tags": []
          }
        }
      ]
    },
    {
      "cell_type": "code",
      "metadata": {
        "id": "VDvDIrG0aiGB",
        "colab_type": "code",
        "colab": {}
      },
      "source": [
        ""
      ],
      "execution_count": 0,
      "outputs": []
    },
    {
      "cell_type": "code",
      "metadata": {
        "id": "145KQQydbX_r",
        "colab_type": "code",
        "colab": {}
      },
      "source": [
        ""
      ],
      "execution_count": 0,
      "outputs": []
    }
  ]
}