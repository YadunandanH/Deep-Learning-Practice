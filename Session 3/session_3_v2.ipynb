{
  "nbformat": 4,
  "nbformat_minor": 0,
  "metadata": {
    "colab": {
      "name": "Copy of 1st DNN.ipynb",
      "version": "0.3.2",
      "provenance": [],
      "collapsed_sections": []
    },
    "kernelspec": {
      "name": "python3",
      "display_name": "Python 3"
    },
    "accelerator": "GPU"
  },
  "cells": [
    {
      "cell_type": "markdown",
      "metadata": {
        "id": "aNyZv-Ec52ot",
        "colab_type": "text"
      },
      "source": [
        "# **Import Libraries and modules**"
      ]
    },
    {
      "cell_type": "code",
      "metadata": {
        "id": "3m3w1Cw49Zkt",
        "colab_type": "code",
        "outputId": "f43bd9ff-c4ef-47c3-ab32-5262f16dafe4",
        "colab": {
          "base_uri": "https://localhost:8080/",
          "height": 46
        }
      },
      "source": [
        "# https://keras.io/\n",
        "!pip install -q keras\n",
        "import keras"
      ],
      "execution_count": 0,
      "outputs": [
        {
          "output_type": "stream",
          "text": [
            "Using TensorFlow backend.\n"
          ],
          "name": "stderr"
        }
      ]
    },
    {
      "cell_type": "code",
      "metadata": {
        "id": "Eso6UHE080D4",
        "colab_type": "code",
        "colab": {}
      },
      "source": [
        "import numpy as np\n",
        "\n",
        "from keras.models import Sequential\n",
        "from keras.layers import Dense, Dropout, Activation, Flatten, Add\n",
        "from keras.layers import Convolution2D, MaxPooling2D\n",
        "from keras.utils import np_utils\n",
        "\n",
        "from keras.datasets import mnist"
      ],
      "execution_count": 0,
      "outputs": []
    },
    {
      "cell_type": "markdown",
      "metadata": {
        "id": "zByEi95J86RD",
        "colab_type": "text"
      },
      "source": [
        "### Load pre-shuffled MNIST data into train and test sets"
      ]
    },
    {
      "cell_type": "code",
      "metadata": {
        "id": "7eRM0QWN83PV",
        "colab_type": "code",
        "outputId": "88e7b699-0b6b-458d-eb4e-9e8ab043c469",
        "colab": {
          "base_uri": "https://localhost:8080/",
          "height": 51
        }
      },
      "source": [
        "(X_train, y_train), (X_test, y_test) = mnist.load_data()"
      ],
      "execution_count": 0,
      "outputs": [
        {
          "output_type": "stream",
          "text": [
            "Downloading data from https://s3.amazonaws.com/img-datasets/mnist.npz\n",
            "11493376/11490434 [==============================] - 0s 0us/step\n"
          ],
          "name": "stdout"
        }
      ]
    },
    {
      "cell_type": "code",
      "metadata": {
        "id": "4a4Be72j8-ZC",
        "colab_type": "code",
        "outputId": "bd835532-cb5f-4e30-a19c-17f1f7dbf432",
        "colab": {
          "base_uri": "https://localhost:8080/",
          "height": 303
        }
      },
      "source": [
        "print (X_train.shape)\n",
        "from matplotlib import pyplot as plt\n",
        "%matplotlib inline\n",
        "plt.imshow(X_train[0])"
      ],
      "execution_count": 0,
      "outputs": [
        {
          "output_type": "stream",
          "text": [
            "(60000, 28, 28)\n"
          ],
          "name": "stdout"
        },
        {
          "output_type": "execute_result",
          "data": {
            "text/plain": [
              "<matplotlib.image.AxesImage at 0x7f39cbb88e48>"
            ]
          },
          "metadata": {
            "tags": []
          },
          "execution_count": 6
        },
        {
          "output_type": "display_data",
          "data": {
            "image/png": "[encoded data removed]",
            "text/plain": [
              "<Figure size 432x288 with 1 Axes>"
            ]
          },
          "metadata": {
            "tags": []
          }
        }
      ]
    },
    {
      "cell_type": "code",
      "metadata": {
        "id": "dkmprriw9AnZ",
        "colab_type": "code",
        "colab": {}
      },
      "source": [
        "X_train = X_train.reshape(X_train.shape[0], 28, 28,1)\n",
        "X_test = X_test.reshape(X_test.shape[0], 28, 28,1)"
      ],
      "execution_count": 0,
      "outputs": []
    },
    {
      "cell_type": "code",
      "metadata": {
        "id": "X2m4YS4E9CRh",
        "colab_type": "code",
        "colab": {}
      },
      "source": [
        "X_train = X_train.astype('float32')\n",
        "X_test = X_test.astype('float32')\n",
        "X_train /= 255\n",
        "X_test /= 255"
      ],
      "execution_count": 0,
      "outputs": []
    },
    {
      "cell_type": "code",
      "metadata": {
        "id": "0Mn0vAYD9DvB",
        "colab_type": "code",
        "outputId": "6b8b6416-7d89-4abe-edce-38f0f659f924",
        "colab": {
          "base_uri": "https://localhost:8080/",
          "height": 34
        }
      },
      "source": [
        "y_train[:10]"
      ],
      "execution_count": 0,
      "outputs": [
        {
          "output_type": "execute_result",
          "data": {
            "text/plain": [
              "array([5, 0, 4, 1, 9, 2, 1, 3, 1, 4], dtype=uint8)"
            ]
          },
          "metadata": {
            "tags": []
          },
          "execution_count": 9
        }
      ]
    },
    {
      "cell_type": "code",
      "metadata": {
        "id": "ZG8JiXR39FHC",
        "colab_type": "code",
        "colab": {}
      },
      "source": [
        "# Convert 1-dimensional class arrays to 10-dimensional class matrices\n",
        "Y_train = np_utils.to_categorical(y_train, 10)\n",
        "Y_test = np_utils.to_categorical(y_test, 10)"
      ],
      "execution_count": 0,
      "outputs": []
    },
    {
      "cell_type": "code",
      "metadata": {
        "id": "fYlFRvKS9HMB",
        "colab_type": "code",
        "outputId": "adbb0c29-d455-4072-e2ed-127c9c4415c4",
        "colab": {
          "base_uri": "https://localhost:8080/",
          "height": 187
        }
      },
      "source": [
        "Y_train[:10]\n"
      ],
      "execution_count": 0,
      "outputs": [
        {
          "output_type": "execute_result",
          "data": {
            "text/plain": [
              "array([[0., 0., 0., 0., 0., 1., 0., 0., 0., 0.],\n",
              "       [1., 0., 0., 0., 0., 0., 0., 0., 0., 0.],\n",
              "       [0., 0., 0., 0., 1., 0., 0., 0., 0., 0.],\n",
              "       [0., 1., 0., 0., 0., 0., 0., 0., 0., 0.],\n",
              "       [0., 0., 0., 0., 0., 0., 0., 0., 0., 1.],\n",
              "       [0., 0., 1., 0., 0., 0., 0., 0., 0., 0.],\n",
              "       [0., 1., 0., 0., 0., 0., 0., 0., 0., 0.],\n",
              "       [0., 0., 0., 1., 0., 0., 0., 0., 0., 0.],\n",
              "       [0., 1., 0., 0., 0., 0., 0., 0., 0., 0.],\n",
              "       [0., 0., 0., 0., 1., 0., 0., 0., 0., 0.]], dtype=float32)"
            ]
          },
          "metadata": {
            "tags": []
          },
          "execution_count": 12
        }
      ]
    },
    {
      "cell_type": "code",
      "metadata": {
        "id": "3pJa27_DjeM7",
        "colab_type": "code",
        "outputId": "e36ba7d4-1599-45f3-efb7-ad8d2f45ebb1",
        "colab": {
          "base_uri": "https://localhost:8080/",
          "height": 989
        }
      },
      "source": [
        "from keras.layers import Activation\n",
        "from keras.layers.normalization import BatchNormalization\n",
        "model = Sequential() \n",
        "#Receptive field becomes: 3X3\n",
        "model.add(Convolution2D(16, 3, 3, activation='relu', input_shape=(28,28,1))) #26X26\n",
        "model.add(BatchNormalization())\n",
        "\n",
        "model.add(Convolution2D(16, 3, 3, activation='relu'))#24X24\n",
        "model.add(BatchNormalization())\n",
        "#model.add(Dropout(0.1))\n",
        "\n",
        "model.add(Convolution2D(16, 3, 3, activation='relu')) #22X22\n",
        "model.add(BatchNormalization())\n",
        "model.add(Dropout(0.2))\n",
        "\n",
        "model.add(MaxPooling2D(pool_size=(2, 2)))#11X11\n",
        "\n",
        "\n",
        "model.add(Convolution2D(32, 3, 3, activation='relu')) #9X9\n",
        "model.add(BatchNormalization())\n",
        "#model.add(Dropout(0.3))\n",
        "\n",
        "model.add(Convolution2D(10, 1, activation='relu'))#9X9\n",
        "model.add(BatchNormalization())\n",
        "model.add(Dropout(0.3))\n",
        "\n",
        "model.add(Convolution2D(10, 3, 3, activation='relu'))#7X7\n",
        "model.add(BatchNormalization())\n",
        "\n",
        "model.add(Convolution2D(10, 3, 3, activation='relu'))#5X5\n",
        "model.add(BatchNormalization())\n",
        "\n",
        "\n",
        "\n",
        "model.add(Convolution2D(10,5))\n",
        "\n",
        "\n",
        "model.add(Flatten())\n",
        "model.add(Activation('softmax'))\n",
        "\n",
        "model.summary()"
      ],
      "execution_count": 0,
      "outputs": [
        {
          "output_type": "stream",
          "text": [
            "/usr/local/lib/python3.6/dist-packages/ipykernel_launcher.py:5: UserWarning: Update your `Conv2D` call to the Keras 2 API: `Conv2D(16, (3, 3), activation=\"relu\", input_shape=(28, 28, 1...)`\n",
            "  \"\"\"\n",
            "/usr/local/lib/python3.6/dist-packages/ipykernel_launcher.py:8: UserWarning: Update your `Conv2D` call to the Keras 2 API: `Conv2D(16, (3, 3), activation=\"relu\")`\n",
            "  \n",
            "/usr/local/lib/python3.6/dist-packages/ipykernel_launcher.py:12: UserWarning: Update your `Conv2D` call to the Keras 2 API: `Conv2D(16, (3, 3), activation=\"relu\")`\n",
            "  if sys.path[0] == '':\n",
            "/usr/local/lib/python3.6/dist-packages/ipykernel_launcher.py:19: UserWarning: Update your `Conv2D` call to the Keras 2 API: `Conv2D(32, (3, 3), activation=\"relu\")`\n",
            "/usr/local/lib/python3.6/dist-packages/ipykernel_launcher.py:27: UserWarning: Update your `Conv2D` call to the Keras 2 API: `Conv2D(10, (3, 3), activation=\"relu\")`\n",
            "/usr/local/lib/python3.6/dist-packages/ipykernel_launcher.py:30: UserWarning: Update your `Conv2D` call to the Keras 2 API: `Conv2D(10, (3, 3), activation=\"relu\")`\n"
          ],
          "name": "stderr"
        },
        {
          "output_type": "stream",
          "text": [
            "_________________________________________________________________\n",
            "Layer (type)                 Output Shape              Param #   \n",
            "=================================================================\n",
            "conv2d_33 (Conv2D)           (None, 26, 26, 16)        160       \n",
            "_________________________________________________________________\n",
            "batch_normalization_29 (Batc (None, 26, 26, 16)        64        \n",
            "_________________________________________________________________\n",
            "conv2d_34 (Conv2D)           (None, 24, 24, 16)        2320      \n",
            "_________________________________________________________________\n",
            "batch_normalization_30 (Batc (None, 24, 24, 16)        64        \n",
            "_________________________________________________________________\n",
            "conv2d_35 (Conv2D)           (None, 22, 22, 16)        2320      \n",
            "_________________________________________________________________\n",
            "batch_normalization_31 (Batc (None, 22, 22, 16)        64        \n",
            "_________________________________________________________________\n",
            "dropout_11 (Dropout)         (None, 22, 22, 16)        0         \n",
            "_________________________________________________________________\n",
            "max_pooling2d_5 (MaxPooling2 (None, 11, 11, 16)        0         \n",
            "_________________________________________________________________\n",
            "conv2d_36 (Conv2D)           (None, 9, 9, 32)          4640      \n",
            "_________________________________________________________________\n",
            "batch_normalization_32 (Batc (None, 9, 9, 32)          128       \n",
            "_________________________________________________________________\n",
            "conv2d_37 (Conv2D)           (None, 9, 9, 10)          330       \n",
            "_________________________________________________________________\n",
            "batch_normalization_33 (Batc (None, 9, 9, 10)          40        \n",
            "_________________________________________________________________\n",
            "dropout_12 (Dropout)         (None, 9, 9, 10)          0         \n",
            "_________________________________________________________________\n",
            "conv2d_38 (Conv2D)           (None, 7, 7, 10)          910       \n",
            "_________________________________________________________________\n",
            "batch_normalization_34 (Batc (None, 7, 7, 10)          40        \n",
            "_________________________________________________________________\n",
            "conv2d_39 (Conv2D)           (None, 5, 5, 10)          910       \n",
            "_________________________________________________________________\n",
            "batch_normalization_35 (Batc (None, 5, 5, 10)          40        \n",
            "_________________________________________________________________\n",
            "conv2d_40 (Conv2D)           (None, 1, 1, 10)          2510      \n",
            "_________________________________________________________________\n",
            "flatten_5 (Flatten)          (None, 10)                0         \n",
            "_________________________________________________________________\n",
            "activation_5 (Activation)    (None, 10)                0         \n",
            "=================================================================\n",
            "Total params: 14,540\n",
            "Trainable params: 14,320\n",
            "Non-trainable params: 220\n",
            "_________________________________________________________________\n"
          ],
          "name": "stdout"
        }
      ]
    },
    {
      "cell_type": "code",
      "metadata": {
        "id": "zCS83ZiGO9yo",
        "colab_type": "code",
        "colab": {}
      },
      "source": [
        ""
      ],
      "execution_count": 0,
      "outputs": []
    },
    {
      "cell_type": "code",
      "metadata": {
        "id": "Zp6SuGrL9M3h",
        "colab_type": "code",
        "colab": {}
      },
      "source": [
        "\n",
        "from sklearn.preprocessing import LabelEncoder\n",
        "from keras.callbacks import LearningRateScheduler\n",
        "\n",
        "\n",
        "model.compile(loss='categorical_crossentropy',\n",
        "             optimizer='adam',\n",
        "             metrics=['accuracy'])\n"
      ],
      "execution_count": 0,
      "outputs": []
    },
    {
      "cell_type": "code",
      "metadata": {
        "id": "4xWoKhPY9Of5",
        "colab_type": "code",
        "outputId": "ec1e323d-6658-4d05-ac28-00b4c8ae4e4a",
        "colab": {
          "base_uri": "https://localhost:8080/",
          "height": 1635
        }
      },
      "source": [
        "model.fit(X_train, Y_train, batch_size=64, nb_epoch=45, verbose=1, validation_data=(X_test, Y_test))"
      ],
      "execution_count": 0,
      "outputs": [
        {
          "output_type": "stream",
          "text": [
            "/usr/local/lib/python3.6/dist-packages/ipykernel_launcher.py:1: UserWarning: The `nb_epoch` argument in `fit` has been renamed `epochs`.\n",
            "  \"\"\"Entry point for launching an IPython kernel.\n"
          ],
          "name": "stderr"
        },
        {
          "output_type": "stream",
          "text": [
            "Train on 60000 samples, validate on 10000 samples\n",
            "Epoch 1/45\n",
            "60000/60000 [==============================] - 15s 255us/step - loss: 0.2758 - acc: 0.9139 - val_loss: 0.0598 - val_acc: 0.9806\n",
            "Epoch 2/45\n",
            "60000/60000 [==============================] - 11s 191us/step - loss: 0.0688 - acc: 0.9790 - val_loss: 0.0549 - val_acc: 0.9822\n",
            "Epoch 3/45\n",
            "60000/60000 [==============================] - 11s 189us/step - loss: 0.0536 - acc: 0.9834 - val_loss: 0.0345 - val_acc: 0.9883\n",
            "Epoch 4/45\n",
            "60000/60000 [==============================] - 11s 191us/step - loss: 0.0457 - acc: 0.9858 - val_loss: 0.0297 - val_acc: 0.9908\n",
            "Epoch 5/45\n",
            "60000/60000 [==============================] - 12s 193us/step - loss: 0.0415 - acc: 0.9861 - val_loss: 0.0333 - val_acc: 0.9889\n",
            "Epoch 6/45\n",
            "60000/60000 [==============================] - 13s 210us/step - loss: 0.0359 - acc: 0.9886 - val_loss: 0.0315 - val_acc: 0.9901\n",
            "Epoch 7/45\n",
            "60000/60000 [==============================] - 11s 191us/step - loss: 0.0345 - acc: 0.9892 - val_loss: 0.0341 - val_acc: 0.9902\n",
            "Epoch 8/45\n",
            "60000/60000 [==============================] - 13s 215us/step - loss: 0.0310 - acc: 0.9905 - val_loss: 0.0315 - val_acc: 0.9907\n",
            "Epoch 9/45\n",
            "60000/60000 [==============================] - 12s 194us/step - loss: 0.0299 - acc: 0.9906 - val_loss: 0.0271 - val_acc: 0.9920\n",
            "Epoch 10/45\n",
            "60000/60000 [==============================] - 11s 187us/step - loss: 0.0295 - acc: 0.9903 - val_loss: 0.0309 - val_acc: 0.9908\n",
            "Epoch 11/45\n",
            "60000/60000 [==============================] - 12s 192us/step - loss: 0.0266 - acc: 0.9916 - val_loss: 0.0245 - val_acc: 0.9927\n",
            "Epoch 12/45\n",
            "60000/60000 [==============================] - 12s 198us/step - loss: 0.0250 - acc: 0.9920 - val_loss: 0.0302 - val_acc: 0.9914\n",
            "Epoch 13/45\n",
            "60000/60000 [==============================] - 12s 204us/step - loss: 0.0234 - acc: 0.9924 - val_loss: 0.0217 - val_acc: 0.9933\n",
            "Epoch 14/45\n",
            "60000/60000 [==============================] - 11s 192us/step - loss: 0.0242 - acc: 0.9924 - val_loss: 0.0269 - val_acc: 0.9919\n",
            "Epoch 15/45\n",
            "60000/60000 [==============================] - 11s 191us/step - loss: 0.0213 - acc: 0.9931 - val_loss: 0.0199 - val_acc: 0.9946\n",
            "Epoch 16/45\n",
            "60000/60000 [==============================] - 11s 191us/step - loss: 0.0223 - acc: 0.9927 - val_loss: 0.0263 - val_acc: 0.9919\n",
            "Epoch 17/45\n",
            "60000/60000 [==============================] - 12s 192us/step - loss: 0.0209 - acc: 0.9930 - val_loss: 0.0286 - val_acc: 0.9915\n",
            "Epoch 18/45\n",
            "60000/60000 [==============================] - 11s 186us/step - loss: 0.0207 - acc: 0.9931 - val_loss: 0.0247 - val_acc: 0.9937\n",
            "Epoch 19/45\n",
            "60000/60000 [==============================] - 12s 200us/step - loss: 0.0199 - acc: 0.9932 - val_loss: 0.0197 - val_acc: 0.9939\n",
            "Epoch 20/45\n",
            "60000/60000 [==============================] - 12s 203us/step - loss: 0.0180 - acc: 0.9944 - val_loss: 0.0221 - val_acc: 0.9936\n",
            "Epoch 21/45\n",
            "60000/60000 [==============================] - 12s 192us/step - loss: 0.0184 - acc: 0.9938 - val_loss: 0.0229 - val_acc: 0.9930\n",
            "Epoch 22/45\n",
            "60000/60000 [==============================] - 12s 192us/step - loss: 0.0169 - acc: 0.9945 - val_loss: 0.0218 - val_acc: 0.9932\n",
            "Epoch 23/45\n",
            "60000/60000 [==============================] - 12s 192us/step - loss: 0.0176 - acc: 0.9943 - val_loss: 0.0235 - val_acc: 0.9932\n",
            "Epoch 24/45\n",
            "60000/60000 [==============================] - 11s 191us/step - loss: 0.0165 - acc: 0.9947 - val_loss: 0.0217 - val_acc: 0.9935\n",
            "Epoch 25/45\n",
            "60000/60000 [==============================] - 11s 191us/step - loss: 0.0154 - acc: 0.9952 - val_loss: 0.0263 - val_acc: 0.9924\n",
            "Epoch 26/45\n",
            "60000/60000 [==============================] - 12s 200us/step - loss: 0.0163 - acc: 0.9945 - val_loss: 0.0226 - val_acc: 0.9937\n",
            "Epoch 27/45\n",
            "60000/60000 [==============================] - 13s 211us/step - loss: 0.0136 - acc: 0.9955 - val_loss: 0.0237 - val_acc: 0.9933\n",
            "Epoch 28/45\n",
            "60000/60000 [==============================] - 12s 194us/step - loss: 0.0158 - acc: 0.9948 - val_loss: 0.0227 - val_acc: 0.9940\n",
            "Epoch 29/45\n",
            "60000/60000 [==============================] - 11s 190us/step - loss: 0.0146 - acc: 0.9952 - val_loss: 0.0252 - val_acc: 0.9936\n",
            "Epoch 30/45\n",
            "60000/60000 [==============================] - 11s 191us/step - loss: 0.0135 - acc: 0.9957 - val_loss: 0.0237 - val_acc: 0.9938\n",
            "Epoch 31/45\n",
            "60000/60000 [==============================] - 11s 191us/step - loss: 0.0131 - acc: 0.9957 - val_loss: 0.0234 - val_acc: 0.9939\n",
            "Epoch 32/45\n",
            "60000/60000 [==============================] - 11s 191us/step - loss: 0.0142 - acc: 0.9953 - val_loss: 0.0229 - val_acc: 0.9937\n",
            "Epoch 33/45\n",
            "60000/60000 [==============================] - 12s 203us/step - loss: 0.0128 - acc: 0.9956 - val_loss: 0.0212 - val_acc: 0.9937\n",
            "Epoch 34/45\n",
            "60000/60000 [==============================] - 12s 201us/step - loss: 0.0134 - acc: 0.9954 - val_loss: 0.0274 - val_acc: 0.9938\n",
            "Epoch 35/45\n",
            "60000/60000 [==============================] - 13s 212us/step - loss: 0.0129 - acc: 0.9955 - val_loss: 0.0248 - val_acc: 0.9923\n",
            "Epoch 36/45\n",
            "60000/60000 [==============================] - 11s 191us/step - loss: 0.0127 - acc: 0.9957 - val_loss: 0.0241 - val_acc: 0.9933\n",
            "Epoch 37/45\n",
            "60000/60000 [==============================] - 12s 192us/step - loss: 0.0122 - acc: 0.9960 - val_loss: 0.0286 - val_acc: 0.9924\n",
            "Epoch 38/45\n",
            "60000/60000 [==============================] - 12s 192us/step - loss: 0.0129 - acc: 0.9954 - val_loss: 0.0221 - val_acc: 0.9937\n",
            "Epoch 39/45\n",
            "60000/60000 [==============================] - 11s 191us/step - loss: 0.0120 - acc: 0.9958 - val_loss: 0.0233 - val_acc: 0.9937\n",
            "Epoch 40/45\n",
            "60000/60000 [==============================] - 13s 212us/step - loss: 0.0111 - acc: 0.9961 - val_loss: 0.0271 - val_acc: 0.9923\n",
            "Epoch 41/45\n",
            "60000/60000 [==============================] - 11s 188us/step - loss: 0.0114 - acc: 0.9961 - val_loss: 0.0267 - val_acc: 0.9916\n",
            "Epoch 42/45\n",
            "60000/60000 [==============================] - 11s 192us/step - loss: 0.0107 - acc: 0.9967 - val_loss: 0.0261 - val_acc: 0.9925\n",
            "Epoch 43/45\n",
            "60000/60000 [==============================] - 12s 192us/step - loss: 0.0107 - acc: 0.9965 - val_loss: 0.0256 - val_acc: 0.9944\n",
            "Epoch 44/45\n",
            "60000/60000 [==============================] - 11s 190us/step - loss: 0.0109 - acc: 0.9962 - val_loss: 0.0232 - val_acc: 0.9941\n",
            "Epoch 45/45\n",
            "60000/60000 [==============================] - 12s 192us/step - loss: 0.0106 - acc: 0.9963 - val_loss: 0.0287 - val_acc: 0.9923\n"
          ],
          "name": "stdout"
        },
        {
          "output_type": "execute_result",
          "data": {
            "text/plain": [
              "<keras.callbacks.History at 0x7f39789254a8>"
            ]
          },
          "metadata": {
            "tags": []
          },
          "execution_count": 42
        }
      ]
    },
    {
      "cell_type": "markdown",
      "metadata": {
        "id": "shuNgXNrVyNE",
        "colab_type": "text"
      },
      "source": [
        "**Observation:**\n",
        "\n",
        "I used 64 as batch size and increased the dropout to 0.3. As we observe this model performing good. At 15th Epoch model reached 99.46%. Still we can increase accuracy by using scheduling Learning Rate"
      ]
    },
    {
      "cell_type": "code",
      "metadata": {
        "id": "AtsH-lLk-eLb",
        "colab_type": "code",
        "colab": {}
      },
      "source": [
        "score = model.evaluate(X_test, Y_test, verbose=0)"
      ],
      "execution_count": 0,
      "outputs": []
    },
    {
      "cell_type": "code",
      "metadata": {
        "id": "mkX8JMv79q9r",
        "colab_type": "code",
        "outputId": "b561acc9-8ab4-4203-a064-ea3e47aeff85",
        "colab": {
          "base_uri": "https://localhost:8080/",
          "height": 34
        }
      },
      "source": [
        "print(score)"
      ],
      "execution_count": 0,
      "outputs": [
        {
          "output_type": "stream",
          "text": [
            "[0.028666380212982675, 0.9923]\n"
          ],
          "name": "stdout"
        }
      ]
    },
    {
      "cell_type": "code",
      "metadata": {
        "id": "OCWoJkwE9suh",
        "colab_type": "code",
        "colab": {}
      },
      "source": [
        "y_pred = model.predict(X_test)"
      ],
      "execution_count": 0,
      "outputs": []
    },
    {
      "cell_type": "code",
      "metadata": {
        "id": "Ym7iCFBm9uBs",
        "colab_type": "code",
        "outputId": "f54a07f3-7843-4f21-ca42-decbe75b4da9",
        "colab": {
          "base_uri": "https://localhost:8080/",
          "height": 493
        }
      },
      "source": [
        "print(y_pred[:9])\n",
        "print(y_test[:9])"
      ],
      "execution_count": 0,
      "outputs": [
        {
          "output_type": "stream",
          "text": [
            "[[1.96309968e-10 8.26392608e-08 1.57156222e-07 2.32439010e-08\n",
            "  6.39877778e-12 3.71306674e-09 5.23180951e-17 9.99999762e-01\n",
            "  5.00837739e-12 3.18218590e-10]\n",
            " [9.15647735e-09 1.24820735e-11 1.00000000e+00 6.53286654e-16\n",
            "  3.34683808e-10 5.92172777e-17 1.36217611e-12 1.01627386e-13\n",
            "  1.09155123e-13 2.89393825e-15]\n",
            " [9.44773079e-12 9.99999762e-01 2.14798984e-10 9.89234042e-12\n",
            "  5.02436563e-08 8.33691380e-11 1.21415681e-07 9.89366242e-08\n",
            "  2.14507589e-09 1.73172410e-08]\n",
            " [9.99998689e-01 6.51672050e-11 1.09149427e-08 3.31895844e-10\n",
            "  1.28788636e-12 5.07367393e-09 7.95596577e-07 4.89021157e-14\n",
            "  5.12367933e-07 1.19062324e-08]\n",
            " [8.05483122e-16 3.77727538e-09 4.88060869e-10 4.97517454e-16\n",
            "  9.99999404e-01 3.30744004e-14 2.18841460e-12 1.03660334e-07\n",
            "  1.39409678e-10 4.47999554e-07]\n",
            " [1.38233554e-13 9.99999166e-01 2.23003335e-11 2.96444150e-14\n",
            "  7.43836992e-08 7.82114513e-14 2.26771574e-10 7.06142202e-07\n",
            "  4.02604061e-11 1.51183288e-09]\n",
            " [4.26662241e-19 1.56881548e-08 7.17933742e-14 3.07410637e-19\n",
            "  9.99999881e-01 1.29245078e-11 1.43382106e-09 1.07808248e-07\n",
            "  2.67461969e-10 5.71554892e-08]\n",
            " [9.74453265e-14 1.23195205e-08 6.86542945e-13 4.17058582e-10\n",
            "  8.37616244e-06 1.18619128e-10 5.84934933e-14 4.96102750e-08\n",
            "  1.02816688e-08 9.99991536e-01]\n",
            " [1.02964394e-10 5.71239167e-10 2.78956924e-09 1.99562873e-08\n",
            "  2.45046805e-09 9.97117877e-01 2.72056367e-03 3.25182221e-12\n",
            "  1.61518037e-04 4.17537507e-08]]\n",
            "[7 2 1 0 4 1 4 9 5]\n"
          ],
          "name": "stdout"
        }
      ]
    },
    {
      "cell_type": "code",
      "metadata": {
        "id": "CT--y98_dr2T",
        "colab_type": "code",
        "colab": {}
      },
      "source": [
        "layer_dict = dict([(layer.name, layer) for layer in model.layers])"
      ],
      "execution_count": 0,
      "outputs": []
    },
    {
      "cell_type": "code",
      "metadata": {
        "id": "2GY4Upv4dsUR",
        "colab_type": "code",
        "outputId": "6d328bcd-3425-45af-b9fd-252a1e1da8e7",
        "colab": {
          "base_uri": "https://localhost:8080/",
          "height": 857
        }
      },
      "source": [
        "import numpy as np\n",
        "from matplotlib import pyplot as plt\n",
        "from keras import backend as K\n",
        "%matplotlib inline\n",
        "# util function to convert a tensor into a valid image\n",
        "def deprocess_image(x):\n",
        "    # normalize tensor: center on 0., ensure std is 0.1\n",
        "    x -= x.mean()\n",
        "    x /= (x.std() + 1e-5)\n",
        "    x *= 0.1\n",
        "\n",
        "    # clip to [0, 1]\n",
        "    x += 0.5\n",
        "    x = np.clip(x, 0, 1)\n",
        "\n",
        "    # convert to RGB array\n",
        "    x *= 255\n",
        "    #x = x.transpose((1, 2, 0))\n",
        "    x = np.clip(x, 0, 255).astype('uint8')\n",
        "    return x\n",
        "\n",
        "def vis_img_in_filter(img = np.array(X_train[2]).reshape((1, 28, 28, 1)).astype(np.float64), \n",
        "                      layer_name = 'conv2d_3'):\n",
        "    layer_output = layer_dict[layer_name].output\n",
        "    img_ascs = list()\n",
        "    for filter_index in range(layer_output.shape[3]):\n",
        "        # build a loss function that maximizes the activation\n",
        "        # of the nth filter of the layer considered\n",
        "        loss = K.mean(layer_output[:, :, :, filter_index])\n",
        "\n",
        "        # compute the gradient of the input picture wrt this loss\n",
        "        grads = K.gradients(loss, model.input)[0]\n",
        "\n",
        "        # normalization trick: we normalize the gradient\n",
        "        grads /= (K.sqrt(K.mean(K.square(grads))) + 1e-5)\n",
        "\n",
        "        # this function returns the loss and grads given the input picture\n",
        "        iterate = K.function([model.input], [loss, grads])\n",
        "\n",
        "        # step size for gradient ascent\n",
        "        step = 5.\n",
        "\n",
        "        img_asc = np.array(img)\n",
        "        # run gradient ascent for 20 steps\n",
        "        for i in range(20):\n",
        "            loss_value, grads_value = iterate([img_asc])\n",
        "            img_asc += grads_value * step\n",
        "\n",
        "        img_asc = img_asc[0]\n",
        "        img_ascs.append(deprocess_image(img_asc).reshape((28, 28)))\n",
        "        \n",
        "    if layer_output.shape[3] >= 35:\n",
        "        plot_x, plot_y = 6, 6\n",
        "    elif layer_output.shape[3] >= 23:\n",
        "        plot_x, plot_y = 4, 6\n",
        "    elif layer_output.shape[3] >= 11:\n",
        "        plot_x, plot_y = 2, 6\n",
        "    else:\n",
        "        plot_x, plot_y = 1, 2\n",
        "    fig, ax = plt.subplots(plot_x, plot_y, figsize = (12, 12))\n",
        "    ax[0, 0].imshow(img.reshape((28, 28)), cmap = 'gray')\n",
        "    ax[0, 0].set_title('Input image')\n",
        "    fig.suptitle('Input image and %s filters' % (layer_name,))\n",
        "    fig.tight_layout(pad = 0.3, rect = [0, 0, 0.9, 0.9])\n",
        "    for (x, y) in [(i, j) for i in range(plot_x) for j in range(plot_y)]:\n",
        "        if x == 0 and y == 0:\n",
        "            continue\n",
        "        ax[x, y].imshow(img_ascs[x * plot_y + y - 1], cmap = 'gray')\n",
        "        ax[x, y].set_title('filter %d' % (x * plot_y + y - 1))\n",
        "\n",
        "vis_img_in_filter()"
      ],
      "execution_count": 0,
      "outputs": [
        {
          "output_type": "display_data",
          "data": {
            "image/png": "[encoded data removed]",
            "text/plain": [
              "<Figure size 864x864 with 24 Axes>"
            ]
          },
          "metadata": {
            "tags": []
          }
        }
      ]
    },
    {
      "cell_type": "code",
      "metadata": {
        "id": "wp_pQwcuEkm9",
        "colab_type": "code",
        "colab": {}
      },
      "source": [
        ""
      ],
      "execution_count": 0,
      "outputs": []
    }
  ]
}