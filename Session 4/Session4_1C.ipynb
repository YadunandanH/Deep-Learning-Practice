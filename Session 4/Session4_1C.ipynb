{
  "nbformat": 4,
  "nbformat_minor": 0,
  "metadata": {
    "colab": {
      "name": "Session4_1C.ipynb",
      "version": "0.3.2",
      "provenance": [],
      "collapsed_sections": []
    },
    "kernelspec": {
      "name": "python3",
      "display_name": "Python 3"
    },
    "accelerator": "GPU"
  },
  "cells": [
    {
      "cell_type": "markdown",
      "metadata": {
        "id": "WrJ54UlwQsNb",
        "colab_type": "text"
      },
      "source": [
        ""
      ]
    },
    {
      "cell_type": "code",
      "metadata": {
        "id": "UPPAer3LPh2m",
        "colab_type": "code",
        "colab": {
          "base_uri": "https://localhost:8080/",
          "height": 46
        },
        "outputId": "7f60e4b9-efdb-4b78-b7e6-bfe43995c6ab"
      },
      "source": [
        "# https://keras.io/\n",
        "!pip install -q keras\n",
        "import keras"
      ],
      "execution_count": 1,
      "outputs": [
        {
          "output_type": "stream",
          "text": [
            "Using TensorFlow backend.\n"
          ],
          "name": "stderr"
        }
      ]
    },
    {
      "cell_type": "code",
      "metadata": {
        "id": "CxFpeaRmPqLb",
        "colab_type": "code",
        "colab": {}
      },
      "source": [
        "import numpy as np\n",
        "\n",
        "from keras.models import Sequential\n",
        "from keras.layers import Flatten\n",
        "from keras.layers import Convolution2D\n",
        "from keras.utils import np_utils\n",
        "\n",
        "from keras.datasets import mnist"
      ],
      "execution_count": 0,
      "outputs": []
    },
    {
      "cell_type": "code",
      "metadata": {
        "id": "gcAxAuQ-PseP",
        "colab_type": "code",
        "colab": {}
      },
      "source": [
        "(X_train, y_train), (X_test, y_test) = mnist.load_data()"
      ],
      "execution_count": 0,
      "outputs": []
    },
    {
      "cell_type": "code",
      "metadata": {
        "id": "Wb5mFvwVPulF",
        "colab_type": "code",
        "colab": {
          "base_uri": "https://localhost:8080/",
          "height": 303
        },
        "outputId": "74fb2a37-939a-4e1a-dd6b-21d27e0b5089"
      },
      "source": [
        "print (X_train.shape)\n",
        "from matplotlib import pyplot as plt\n",
        "%matplotlib inline\n",
        "plt.imshow(X_train[0])"
      ],
      "execution_count": 4,
      "outputs": [
        {
          "output_type": "stream",
          "text": [
            "(60000, 28, 28)\n"
          ],
          "name": "stdout"
        },
        {
          "output_type": "execute_result",
          "data": {
            "text/plain": [
              "<matplotlib.image.AxesImage at 0x7f2126f9e940>"
            ]
          },
          "metadata": {
            "tags": []
          },
          "execution_count": 4
        },
        {
          "output_type": "display_data",
          "data": {
            "image/png": "[encoded data removed]",
            "text/plain": [
              "<Figure size 432x288 with 1 Axes>"
            ]
          },
          "metadata": {
            "tags": []
          }
        }
      ]
    },
    {
      "cell_type": "code",
      "metadata": {
        "id": "XSd3D0XhPxEg",
        "colab_type": "code",
        "colab": {}
      },
      "source": [
        "X_train = X_train.reshape(X_train.shape[0], 28, 28,1)\n",
        "X_test = X_test.reshape(X_test.shape[0], 28, 28,1)"
      ],
      "execution_count": 0,
      "outputs": []
    },
    {
      "cell_type": "code",
      "metadata": {
        "id": "jCXDuASCPzWa",
        "colab_type": "code",
        "colab": {}
      },
      "source": [
        "X_train = X_train.astype('float32')\n",
        "X_test = X_test.astype('float32')\n",
        "X_train /= 255\n",
        "X_test /= 255"
      ],
      "execution_count": 0,
      "outputs": []
    },
    {
      "cell_type": "code",
      "metadata": {
        "id": "yJHtu8mEP1de",
        "colab_type": "code",
        "colab": {
          "base_uri": "https://localhost:8080/",
          "height": 34
        },
        "outputId": "beee7941-ac96-4b24-bc99-578f930a6e3c"
      },
      "source": [
        "y_train[:10]"
      ],
      "execution_count": 7,
      "outputs": [
        {
          "output_type": "execute_result",
          "data": {
            "text/plain": [
              "array([5, 0, 4, 1, 9, 2, 1, 3, 1, 4], dtype=uint8)"
            ]
          },
          "metadata": {
            "tags": []
          },
          "execution_count": 7
        }
      ]
    },
    {
      "cell_type": "code",
      "metadata": {
        "id": "xpjITO8eP1mM",
        "colab_type": "code",
        "colab": {}
      },
      "source": [
        "# Convert 1-dimensional class arrays to 10-dimensional class matrices\n",
        "Y_train = np_utils.to_categorical(y_train, 10)\n",
        "Y_test = np_utils.to_categorical(y_test, 10)"
      ],
      "execution_count": 0,
      "outputs": []
    },
    {
      "cell_type": "code",
      "metadata": {
        "id": "wP3Jhv76P4Oj",
        "colab_type": "code",
        "colab": {
          "base_uri": "https://localhost:8080/",
          "height": 187
        },
        "outputId": "30f951ce-0713-49aa-b34e-a36661644d6e"
      },
      "source": [
        "Y_train[:10]"
      ],
      "execution_count": 9,
      "outputs": [
        {
          "output_type": "execute_result",
          "data": {
            "text/plain": [
              "array([[0., 0., 0., 0., 0., 1., 0., 0., 0., 0.],\n",
              "       [1., 0., 0., 0., 0., 0., 0., 0., 0., 0.],\n",
              "       [0., 0., 0., 0., 1., 0., 0., 0., 0., 0.],\n",
              "       [0., 1., 0., 0., 0., 0., 0., 0., 0., 0.],\n",
              "       [0., 0., 0., 0., 0., 0., 0., 0., 0., 1.],\n",
              "       [0., 0., 1., 0., 0., 0., 0., 0., 0., 0.],\n",
              "       [0., 1., 0., 0., 0., 0., 0., 0., 0., 0.],\n",
              "       [0., 0., 0., 1., 0., 0., 0., 0., 0., 0.],\n",
              "       [0., 1., 0., 0., 0., 0., 0., 0., 0., 0.],\n",
              "       [0., 0., 0., 0., 1., 0., 0., 0., 0., 0.]], dtype=float32)"
            ]
          },
          "metadata": {
            "tags": []
          },
          "execution_count": 9
        }
      ]
    },
    {
      "cell_type": "code",
      "metadata": {
        "id": "ybNuWVCYP4SX",
        "colab_type": "code",
        "colab": {
          "base_uri": "https://localhost:8080/",
          "height": 1057
        },
        "outputId": "1713fc50-4202-4963-b4bd-bac7ba2c46a3"
      },
      "source": [
        "from keras.layers import Activation\n",
        "from keras.layers.normalization import BatchNormalization\n",
        "from keras.layers import Convolution2D, MaxPooling2D\n",
        "from keras.layers import Dense, Dropout, Activation, Flatten, Add\n",
        "\n",
        "model = Sequential() \n",
        "#Receptive field becomes: 3X3\n",
        "model.add(Convolution2D(16, 3, 3, activation='relu', input_shape=(28,28,1))) #26X26\n",
        "model.add(BatchNormalization())\n",
        "model.add(Dropout(0.1))\n",
        "\n",
        "model.add(Convolution2D(16, 3, 3, activation='relu'))#24X24\n",
        "model.add(BatchNormalization())\n",
        "model.add(Dropout(0.1))\n",
        "\n",
        "model.add(Convolution2D(16, 3, 3, activation='relu')) #22X22\n",
        "model.add(BatchNormalization())\n",
        "model.add(Dropout(0.1))\n",
        "\n",
        "model.add(MaxPooling2D(pool_size=(2, 2)))#11X11\n",
        "\n",
        "\n",
        "model.add(Convolution2D(16, 3, 3, activation='relu')) #9X9\n",
        "model.add(BatchNormalization())\n",
        "model.add(Dropout(0.1))\n",
        "\n",
        "model.add(Convolution2D(10, 1, activation='relu'))#9X9\n",
        "model.add(BatchNormalization())\n",
        "model.add(Dropout(0.3))\n",
        "\n",
        "model.add(Convolution2D(10, 3, 3, activation='relu'))#7X7\n",
        "model.add(BatchNormalization())\n",
        "\n",
        "model.add(Convolution2D(10, 3, 3, activation='relu'))#5X5\n",
        "\n",
        "\n",
        "\n",
        "\n",
        "model.add(Convolution2D(10,5))\n",
        "\n",
        "\n",
        "model.add(Flatten())\n",
        "model.add(Activation('softmax'))\n",
        "\n",
        "model.summary()"
      ],
      "execution_count": 59,
      "outputs": [
        {
          "output_type": "stream",
          "text": [
            "/usr/local/lib/python3.6/dist-packages/ipykernel_launcher.py:8: UserWarning: Update your `Conv2D` call to the Keras 2 API: `Conv2D(16, (3, 3), activation=\"relu\", input_shape=(28, 28, 1...)`\n",
            "  \n",
            "/usr/local/lib/python3.6/dist-packages/ipykernel_launcher.py:12: UserWarning: Update your `Conv2D` call to the Keras 2 API: `Conv2D(16, (3, 3), activation=\"relu\")`\n",
            "  if sys.path[0] == '':\n",
            "/usr/local/lib/python3.6/dist-packages/ipykernel_launcher.py:16: UserWarning: Update your `Conv2D` call to the Keras 2 API: `Conv2D(16, (3, 3), activation=\"relu\")`\n",
            "  app.launch_new_instance()\n",
            "/usr/local/lib/python3.6/dist-packages/ipykernel_launcher.py:23: UserWarning: Update your `Conv2D` call to the Keras 2 API: `Conv2D(16, (3, 3), activation=\"relu\")`\n"
          ],
          "name": "stderr"
        },
        {
          "output_type": "stream",
          "text": [
            "_________________________________________________________________\n",
            "Layer (type)                 Output Shape              Param #   \n",
            "=================================================================\n",
            "conv2d_129 (Conv2D)          (None, 26, 26, 16)        160       \n",
            "_________________________________________________________________\n",
            "batch_normalization_111 (Bat (None, 26, 26, 16)        64        \n",
            "_________________________________________________________________\n",
            "dropout_36 (Dropout)         (None, 26, 26, 16)        0         \n",
            "_________________________________________________________________\n",
            "conv2d_130 (Conv2D)          (None, 24, 24, 16)        2320      \n",
            "_________________________________________________________________\n",
            "batch_normalization_112 (Bat (None, 24, 24, 16)        64        \n",
            "_________________________________________________________________\n",
            "dropout_37 (Dropout)         (None, 24, 24, 16)        0         \n",
            "_________________________________________________________________\n",
            "conv2d_131 (Conv2D)          (None, 22, 22, 16)        2320      \n",
            "_________________________________________________________________\n",
            "batch_normalization_113 (Bat (None, 22, 22, 16)        64        \n",
            "_________________________________________________________________\n",
            "dropout_38 (Dropout)         (None, 22, 22, 16)        0         \n",
            "_________________________________________________________________\n",
            "max_pooling2d_17 (MaxPooling (None, 11, 11, 16)        0         \n",
            "_________________________________________________________________\n",
            "conv2d_132 (Conv2D)          (None, 9, 9, 16)          2320      \n",
            "_________________________________________________________________\n",
            "batch_normalization_114 (Bat (None, 9, 9, 16)          64        \n",
            "_________________________________________________________________\n",
            "dropout_39 (Dropout)         (None, 9, 9, 16)          0         \n",
            "_________________________________________________________________\n",
            "conv2d_133 (Conv2D)          (None, 9, 9, 10)          170       \n",
            "_________________________________________________________________\n",
            "batch_normalization_115 (Bat (None, 9, 9, 10)          40        \n",
            "_________________________________________________________________\n",
            "dropout_40 (Dropout)         (None, 9, 9, 10)          0         \n",
            "_________________________________________________________________\n",
            "conv2d_134 (Conv2D)          (None, 7, 7, 10)          910       \n",
            "_________________________________________________________________\n",
            "batch_normalization_116 (Bat (None, 7, 7, 10)          40        \n",
            "_________________________________________________________________\n",
            "conv2d_135 (Conv2D)          (None, 5, 5, 10)          910       \n",
            "_________________________________________________________________\n",
            "conv2d_136 (Conv2D)          (None, 1, 1, 10)          2510      \n",
            "_________________________________________________________________\n",
            "flatten_17 (Flatten)         (None, 10)                0         \n",
            "_________________________________________________________________\n",
            "activation_17 (Activation)   (None, 10)                0         \n",
            "=================================================================\n",
            "Total params: 11,956\n",
            "Trainable params: 11,788\n",
            "Non-trainable params: 168\n",
            "_________________________________________________________________\n"
          ],
          "name": "stdout"
        },
        {
          "output_type": "stream",
          "text": [
            "/usr/local/lib/python3.6/dist-packages/ipykernel_launcher.py:31: UserWarning: Update your `Conv2D` call to the Keras 2 API: `Conv2D(10, (3, 3), activation=\"relu\")`\n",
            "/usr/local/lib/python3.6/dist-packages/ipykernel_launcher.py:34: UserWarning: Update your `Conv2D` call to the Keras 2 API: `Conv2D(10, (3, 3), activation=\"relu\")`\n"
          ],
          "name": "stderr"
        }
      ]
    },
    {
      "cell_type": "code",
      "metadata": {
        "id": "ydSIl-XAP-kH",
        "colab_type": "code",
        "colab": {}
      },
      "source": [
        "model.compile(loss='categorical_crossentropy',\n",
        "             optimizer='adam',\n",
        "             metrics=['accuracy'])"
      ],
      "execution_count": 0,
      "outputs": []
    },
    {
      "cell_type": "code",
      "metadata": {
        "id": "rTP41dtuQEZd",
        "colab_type": "code",
        "colab": {
          "base_uri": "https://localhost:8080/",
          "height": 1805
        },
        "outputId": "56cfedaf-3a30-44cd-c30d-eb7103c8f30b"
      },
      "source": [
        "model.fit(X_train, Y_train, batch_size=64, nb_epoch=50, validation_data=(X_test, Y_test), verbose=1)"
      ],
      "execution_count": 61,
      "outputs": [
        {
          "output_type": "stream",
          "text": [
            "/usr/local/lib/python3.6/dist-packages/ipykernel_launcher.py:1: UserWarning: The `nb_epoch` argument in `fit` has been renamed `epochs`.\n",
            "  \"\"\"Entry point for launching an IPython kernel.\n"
          ],
          "name": "stderr"
        },
        {
          "output_type": "stream",
          "text": [
            "Train on 60000 samples, validate on 10000 samples\n",
            "Epoch 1/50\n",
            "60000/60000 [==============================] - 20s 332us/step - loss: 0.3100 - acc: 0.9009 - val_loss: 0.0777 - val_acc: 0.9731\n",
            "Epoch 2/50\n",
            "60000/60000 [==============================] - 12s 201us/step - loss: 0.0815 - acc: 0.9749 - val_loss: 0.0556 - val_acc: 0.9834\n",
            "Epoch 3/50\n",
            "60000/60000 [==============================] - 12s 205us/step - loss: 0.0622 - acc: 0.9802 - val_loss: 0.0567 - val_acc: 0.9830\n",
            "Epoch 4/50\n",
            "60000/60000 [==============================] - 12s 205us/step - loss: 0.0554 - acc: 0.9827 - val_loss: 0.0333 - val_acc: 0.9903\n",
            "Epoch 5/50\n",
            "60000/60000 [==============================] - 12s 203us/step - loss: 0.0487 - acc: 0.9850 - val_loss: 0.0339 - val_acc: 0.9899\n",
            "Epoch 6/50\n",
            "60000/60000 [==============================] - 12s 201us/step - loss: 0.0447 - acc: 0.9854 - val_loss: 0.0316 - val_acc: 0.9905\n",
            "Epoch 7/50\n",
            "60000/60000 [==============================] - 12s 201us/step - loss: 0.0430 - acc: 0.9865 - val_loss: 0.0273 - val_acc: 0.9913\n",
            "Epoch 8/50\n",
            "60000/60000 [==============================] - 12s 200us/step - loss: 0.0393 - acc: 0.9877 - val_loss: 0.0302 - val_acc: 0.9905\n",
            "Epoch 9/50\n",
            "60000/60000 [==============================] - 12s 202us/step - loss: 0.0369 - acc: 0.9881 - val_loss: 0.0411 - val_acc: 0.9871\n",
            "Epoch 10/50\n",
            "60000/60000 [==============================] - 13s 209us/step - loss: 0.0362 - acc: 0.9883 - val_loss: 0.0377 - val_acc: 0.9891\n",
            "Epoch 11/50\n",
            "60000/60000 [==============================] - 12s 206us/step - loss: 0.0330 - acc: 0.9893 - val_loss: 0.0334 - val_acc: 0.9900\n",
            "Epoch 12/50\n",
            "60000/60000 [==============================] - 12s 200us/step - loss: 0.0332 - acc: 0.9890 - val_loss: 0.0252 - val_acc: 0.9920\n",
            "Epoch 13/50\n",
            "60000/60000 [==============================] - 12s 200us/step - loss: 0.0313 - acc: 0.9901 - val_loss: 0.0314 - val_acc: 0.9904\n",
            "Epoch 14/50\n",
            "60000/60000 [==============================] - 12s 199us/step - loss: 0.0315 - acc: 0.9900 - val_loss: 0.0275 - val_acc: 0.9911\n",
            "Epoch 15/50\n",
            "60000/60000 [==============================] - 12s 200us/step - loss: 0.0282 - acc: 0.9908 - val_loss: 0.0276 - val_acc: 0.9913\n",
            "Epoch 16/50\n",
            "60000/60000 [==============================] - 12s 201us/step - loss: 0.0294 - acc: 0.9907 - val_loss: 0.0290 - val_acc: 0.9911\n",
            "Epoch 17/50\n",
            "60000/60000 [==============================] - 12s 204us/step - loss: 0.0276 - acc: 0.9913 - val_loss: 0.0284 - val_acc: 0.9923\n",
            "Epoch 18/50\n",
            "60000/60000 [==============================] - 12s 201us/step - loss: 0.0279 - acc: 0.9911 - val_loss: 0.0357 - val_acc: 0.9889\n",
            "Epoch 19/50\n",
            "60000/60000 [==============================] - 12s 201us/step - loss: 0.0273 - acc: 0.9912 - val_loss: 0.0246 - val_acc: 0.9932\n",
            "Epoch 20/50\n",
            "60000/60000 [==============================] - 12s 204us/step - loss: 0.0261 - acc: 0.9915 - val_loss: 0.0258 - val_acc: 0.9927\n",
            "Epoch 21/50\n",
            "60000/60000 [==============================] - 12s 203us/step - loss: 0.0245 - acc: 0.9919 - val_loss: 0.0295 - val_acc: 0.9913\n",
            "Epoch 22/50\n",
            "60000/60000 [==============================] - 12s 204us/step - loss: 0.0243 - acc: 0.9919 - val_loss: 0.0355 - val_acc: 0.9904\n",
            "Epoch 23/50\n",
            "60000/60000 [==============================] - 12s 208us/step - loss: 0.0244 - acc: 0.9919 - val_loss: 0.0328 - val_acc: 0.9910\n",
            "Epoch 24/50\n",
            "60000/60000 [==============================] - 12s 204us/step - loss: 0.0230 - acc: 0.9922 - val_loss: 0.0270 - val_acc: 0.9922\n",
            "Epoch 25/50\n",
            "60000/60000 [==============================] - 12s 203us/step - loss: 0.0233 - acc: 0.9927 - val_loss: 0.0270 - val_acc: 0.9926\n",
            "Epoch 26/50\n",
            "60000/60000 [==============================] - 12s 201us/step - loss: 0.0232 - acc: 0.9925 - val_loss: 0.0258 - val_acc: 0.9939\n",
            "Epoch 27/50\n",
            "60000/60000 [==============================] - 12s 200us/step - loss: 0.0222 - acc: 0.9929 - val_loss: 0.0248 - val_acc: 0.9933\n",
            "Epoch 28/50\n",
            "60000/60000 [==============================] - 12s 201us/step - loss: 0.0213 - acc: 0.9929 - val_loss: 0.0324 - val_acc: 0.9914\n",
            "Epoch 29/50\n",
            "60000/60000 [==============================] - 12s 203us/step - loss: 0.0207 - acc: 0.9933 - val_loss: 0.0230 - val_acc: 0.9944\n",
            "Epoch 30/50\n",
            "60000/60000 [==============================] - 12s 207us/step - loss: 0.0200 - acc: 0.9934 - val_loss: 0.0264 - val_acc: 0.9924\n",
            "Epoch 31/50\n",
            "60000/60000 [==============================] - 12s 202us/step - loss: 0.0212 - acc: 0.9929 - val_loss: 0.0264 - val_acc: 0.9923\n",
            "Epoch 32/50\n",
            "60000/60000 [==============================] - 12s 203us/step - loss: 0.0210 - acc: 0.9929 - val_loss: 0.0258 - val_acc: 0.9924\n",
            "Epoch 33/50\n",
            "60000/60000 [==============================] - 12s 203us/step - loss: 0.0199 - acc: 0.9930 - val_loss: 0.0285 - val_acc: 0.9929\n",
            "Epoch 34/50\n",
            "60000/60000 [==============================] - 12s 203us/step - loss: 0.0192 - acc: 0.9939 - val_loss: 0.0269 - val_acc: 0.9928\n",
            "Epoch 35/50\n",
            "60000/60000 [==============================] - 12s 204us/step - loss: 0.0198 - acc: 0.9936 - val_loss: 0.0247 - val_acc: 0.9932\n",
            "Epoch 36/50\n",
            "60000/60000 [==============================] - 13s 212us/step - loss: 0.0184 - acc: 0.9944 - val_loss: 0.0268 - val_acc: 0.9935\n",
            "Epoch 37/50\n",
            "60000/60000 [==============================] - 12s 203us/step - loss: 0.0194 - acc: 0.9939 - val_loss: 0.0325 - val_acc: 0.9917\n",
            "Epoch 38/50\n",
            "60000/60000 [==============================] - 12s 202us/step - loss: 0.0184 - acc: 0.9940 - val_loss: 0.0287 - val_acc: 0.9925\n",
            "Epoch 39/50\n",
            "60000/60000 [==============================] - 12s 202us/step - loss: 0.0189 - acc: 0.9939 - val_loss: 0.0286 - val_acc: 0.9923\n",
            "Epoch 40/50\n",
            "60000/60000 [==============================] - 12s 203us/step - loss: 0.0173 - acc: 0.9944 - val_loss: 0.0318 - val_acc: 0.9916\n",
            "Epoch 41/50\n",
            "60000/60000 [==============================] - 12s 202us/step - loss: 0.0173 - acc: 0.9943 - val_loss: 0.0307 - val_acc: 0.9911\n",
            "Epoch 42/50\n",
            "60000/60000 [==============================] - 12s 207us/step - loss: 0.0174 - acc: 0.9946 - val_loss: 0.0243 - val_acc: 0.9935\n",
            "Epoch 43/50\n",
            "60000/60000 [==============================] - 12s 207us/step - loss: 0.0178 - acc: 0.9940 - val_loss: 0.0308 - val_acc: 0.9921\n",
            "Epoch 44/50\n",
            "60000/60000 [==============================] - 12s 204us/step - loss: 0.0183 - acc: 0.9941 - val_loss: 0.0276 - val_acc: 0.9929\n",
            "Epoch 45/50\n",
            "60000/60000 [==============================] - 12s 206us/step - loss: 0.0159 - acc: 0.9949 - val_loss: 0.0239 - val_acc: 0.9938\n",
            "Epoch 46/50\n",
            "60000/60000 [==============================] - 12s 201us/step - loss: 0.0170 - acc: 0.9945 - val_loss: 0.0264 - val_acc: 0.9928\n",
            "Epoch 47/50\n",
            "60000/60000 [==============================] - 12s 202us/step - loss: 0.0181 - acc: 0.9940 - val_loss: 0.0282 - val_acc: 0.9926\n",
            "Epoch 48/50\n",
            "60000/60000 [==============================] - 12s 202us/step - loss: 0.0164 - acc: 0.9947 - val_loss: 0.0260 - val_acc: 0.9927\n",
            "Epoch 49/50\n",
            "60000/60000 [==============================] - 12s 205us/step - loss: 0.0161 - acc: 0.9946 - val_loss: 0.0262 - val_acc: 0.9926\n",
            "Epoch 50/50\n",
            "60000/60000 [==============================] - 12s 205us/step - loss: 0.0174 - acc: 0.9943 - val_loss: 0.0242 - val_acc: 0.9935\n"
          ],
          "name": "stdout"
        },
        {
          "output_type": "execute_result",
          "data": {
            "text/plain": [
              "<keras.callbacks.History at 0x7f20c5a3f8d0>"
            ]
          },
          "metadata": {
            "tags": []
          },
          "execution_count": 61
        }
      ]
    },
    {
      "cell_type": "code",
      "metadata": {
        "id": "ZQBOt_vQQHPa",
        "colab_type": "code",
        "colab": {}
      },
      "source": [
        "score = model.evaluate(X_test, Y_test, verbose=0)"
      ],
      "execution_count": 0,
      "outputs": []
    },
    {
      "cell_type": "code",
      "metadata": {
        "id": "lTsIW6r9QJOs",
        "colab_type": "code",
        "colab": {
          "base_uri": "https://localhost:8080/",
          "height": 34
        },
        "outputId": "906798f5-aea4-4c29-c2de-6d68b40f028e"
      },
      "source": [
        "print(score)"
      ],
      "execution_count": 63,
      "outputs": [
        {
          "output_type": "stream",
          "text": [
            "[0.024168128230666844, 0.9935]\n"
          ],
          "name": "stdout"
        }
      ]
    },
    {
      "cell_type": "code",
      "metadata": {
        "id": "kHI4Od3c09N7",
        "colab_type": "code",
        "colab": {}
      },
      "source": [
        ""
      ],
      "execution_count": 0,
      "outputs": []
    }
  ]
}